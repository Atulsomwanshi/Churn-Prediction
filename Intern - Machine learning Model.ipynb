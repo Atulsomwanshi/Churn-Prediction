{
 "cells": [
  {
   "cell_type": "code",
   "execution_count": 1,
   "id": "c19515bd",
   "metadata": {},
   "outputs": [],
   "source": [
    "# Data manipulation lib\n",
    "import pandas as pd\n",
    "import numpy as np\n",
    "\n",
    "# Data visualization lib\n",
    "import matplotlib.pyplot as plt\n",
    "import seaborn as sns\n",
    "import plotly.express as px\n",
    "\n",
    "# Data pre-processing lib\n",
    "from sklearn.preprocessing import StandardScaler\n",
    "from sklearn.model_selection import train_test_split\n",
    "from sklearn.preprocessing import LabelEncoder\n",
    "from sklearn.model_selection import GridSearchCV\n",
    "\n",
    "# model building \n",
    "from sklearn.ensemble import RandomForestClassifier\n",
    "from sklearn.tree import DecisionTreeClassifier\n",
    "from sklearn.svm import SVC\n",
    "\n",
    "# model evaluation\n",
    "from sklearn import metrics\n",
    "from sklearn.metrics import *\n",
    "import warnings\n",
    "warnings.filterwarnings('ignore')"
   ]
  },
  {
   "cell_type": "code",
   "execution_count": 2,
   "id": "ed546837",
   "metadata": {},
   "outputs": [],
   "source": [
    "# importing data\n",
    "data = pd.read_excel(r'C:\\Users\\Atul\\Dropbox\\My PC (LAPTOP-EGHOUM3O)\\Downloads\\CHURNDATA (1).xlsx')"
   ]
  },
  {
   "cell_type": "markdown",
   "id": "541fe5ba",
   "metadata": {},
   "source": [
    "# Exploratory Data Analysis (EDA)"
   ]
  },
  {
   "cell_type": "code",
   "execution_count": 3,
   "id": "e7187d87",
   "metadata": {},
   "outputs": [],
   "source": [
    "# coping original data into df\n",
    "df = data.copy(deep=True)"
   ]
  },
  {
   "cell_type": "code",
   "execution_count": 4,
   "id": "856ab463",
   "metadata": {},
   "outputs": [
    {
     "name": "stdout",
     "output_type": "stream",
     "text": [
      "<class 'pandas.core.frame.DataFrame'>\n",
      "RangeIndex: 1249 entries, 0 to 1248\n",
      "Data columns (total 28 columns):\n",
      " #   Column                              Non-Null Count  Dtype         \n",
      "---  ------                              --------------  -----         \n",
      " 0   CIF                                 1249 non-null   object        \n",
      " 1   CUS_DOB                             1249 non-null   object        \n",
      " 2   AGE                                 1249 non-null   int64         \n",
      " 3   CUS_Month_Income                    1238 non-null   float64       \n",
      " 4   CUS_Gender                          1247 non-null   object        \n",
      " 5   CUS_Marital_Status                  1249 non-null   object        \n",
      " 6   CUS_Customer_Since                  1249 non-null   datetime64[ns]\n",
      " 7   YEARS_WITH_US                       1249 non-null   int64         \n",
      " 8   # total debit transactions for S1   1249 non-null   int64         \n",
      " 9   # total debit transactions for S2   1249 non-null   int64         \n",
      " 10  # total debit transactions for S3   1249 non-null   int64         \n",
      " 11  total debit amount for S1           1249 non-null   float64       \n",
      " 12  total debit amount for S2           1249 non-null   float64       \n",
      " 13  total debit amount for S3           1249 non-null   float64       \n",
      " 14  # total credit transactions for S1  1249 non-null   int64         \n",
      " 15  # total credit transactions for S2  1249 non-null   int64         \n",
      " 16  # total credit transactions for S3  1249 non-null   int64         \n",
      " 17  total credit amount for S1          1249 non-null   float64       \n",
      " 18  total credit amount for S2          1249 non-null   float64       \n",
      " 19  total credit amount for S3          1249 non-null   float64       \n",
      " 20  total debit amount                  1249 non-null   float64       \n",
      " 21  total debit transactions            1249 non-null   int64         \n",
      " 22  total credit amount                 1249 non-null   float64       \n",
      " 23  total credit transactions           1249 non-null   int64         \n",
      " 24  total transactions                  1249 non-null   int64         \n",
      " 25  CUS_Target                          1249 non-null   int64         \n",
      " 26  TAR_Desc                            1249 non-null   object        \n",
      " 27  Status                              1249 non-null   object        \n",
      "dtypes: datetime64[ns](1), float64(9), int64(12), object(6)\n",
      "memory usage: 273.3+ KB\n"
     ]
    }
   ],
   "source": [
    "df.info()"
   ]
  },
  {
   "cell_type": "code",
   "execution_count": 5,
   "id": "5667768b",
   "metadata": {},
   "outputs": [
    {
     "data": {
      "text/plain": [
       "CIF                                    0\n",
       "CUS_DOB                                0\n",
       "AGE                                    0\n",
       "CUS_Month_Income                      11\n",
       "CUS_Gender                             2\n",
       "CUS_Marital_Status                     0\n",
       "CUS_Customer_Since                     0\n",
       "YEARS_WITH_US                          0\n",
       "# total debit transactions for S1      0\n",
       "# total debit transactions for S2      0\n",
       "# total debit transactions for S3      0\n",
       "total debit amount for S1              0\n",
       "total debit amount for S2              0\n",
       "total debit amount for S3              0\n",
       "# total credit transactions for S1     0\n",
       "# total credit transactions for S2     0\n",
       "# total credit transactions for S3     0\n",
       "total credit amount for S1             0\n",
       "total credit amount for S2             0\n",
       "total credit amount for S3             0\n",
       "total debit amount                     0\n",
       "total debit transactions               0\n",
       "total credit amount                    0\n",
       "total credit transactions              0\n",
       "total transactions                     0\n",
       "CUS_Target                             0\n",
       "TAR_Desc                               0\n",
       "Status                                 0\n",
       "dtype: int64"
      ]
     },
     "execution_count": 5,
     "metadata": {},
     "output_type": "execute_result"
    }
   ],
   "source": [
    "df.isnull().sum()"
   ]
  },
  {
   "cell_type": "code",
   "execution_count": 6,
   "id": "1ec1a032",
   "metadata": {},
   "outputs": [],
   "source": [
    "# Analyzing Important Continous features\n",
    "# checking different charater in continuos features"
   ]
  },
  {
   "cell_type": "code",
   "execution_count": 7,
   "id": "57555c73",
   "metadata": {},
   "outputs": [
    {
     "data": {
      "text/plain": [
       "Index(['CIF', 'CUS_DOB', 'AGE', 'CUS_Month_Income', 'CUS_Gender',\n",
       "       'CUS_Marital_Status', 'CUS_Customer_Since', 'YEARS_WITH_US',\n",
       "       '# total debit transactions for S1',\n",
       "       '# total debit transactions for S2',\n",
       "       '# total debit transactions for S3', 'total debit amount for S1',\n",
       "       'total debit amount for S2', 'total debit amount for S3',\n",
       "       '# total credit transactions for S1',\n",
       "       '# total credit transactions for S2',\n",
       "       '# total credit transactions for S3', 'total credit amount for S1',\n",
       "       'total credit amount for S2', 'total credit amount for S3',\n",
       "       'total debit amount', 'total debit transactions', 'total credit amount',\n",
       "       'total credit transactions', 'total transactions', 'CUS_Target',\n",
       "       'TAR_Desc', 'Status'],\n",
       "      dtype='object')"
      ]
     },
     "execution_count": 7,
     "metadata": {},
     "output_type": "execute_result"
    }
   ],
   "source": [
    "df.columns"
   ]
  },
  {
   "cell_type": "code",
   "execution_count": 8,
   "id": "886bf7ec",
   "metadata": {},
   "outputs": [
    {
     "data": {
      "text/plain": [
       "array([ 49,  46,  53,  15,  48,  37,  16,  39,  59,  64,  51,  43,  29,\n",
       "        32,  35,  18,  30,  41,  75,  66,  62,  20,  77,  69,  34,  82,\n",
       "        60,  87,  54,  36,  52,  33,  58,  45,  40,  65,  50,  27,  42,\n",
       "        31,  44,  76,  47,  38,  70,  63,  61,  57,  25,  56,  26,  72,\n",
       "        67, 119,  55,  17,  21,  14,  89,  24,  28,  73,  71,  23,  68,\n",
       "        22,  81,  79,  74,  86,  19,  83], dtype=int64)"
      ]
     },
     "execution_count": 8,
     "metadata": {},
     "output_type": "execute_result"
    }
   ],
   "source": [
    "# Analyzing age\n",
    "df['AGE'].unique()"
   ]
  },
  {
   "cell_type": "code",
   "execution_count": 9,
   "id": "e355dee7",
   "metadata": {},
   "outputs": [
    {
     "data": {
      "text/plain": [
       "41    57\n",
       "43    57\n",
       "37    51\n",
       "39    49\n",
       "40    47\n",
       "Name: AGE, dtype: int64"
      ]
     },
     "execution_count": 9,
     "metadata": {},
     "output_type": "execute_result"
    }
   ],
   "source": [
    "df['AGE'].value_counts().head()"
   ]
  },
  {
   "cell_type": "code",
   "execution_count": 10,
   "id": "c17e702b",
   "metadata": {},
   "outputs": [
    {
     "data": {
      "text/plain": [
       "1000000.0    100\n",
       "2000000.0     91\n",
       "2500000.0     69\n",
       "5000000.0     61\n",
       "2500.0        56\n",
       "Name: CUS_Month_Income, dtype: int64"
      ]
     },
     "execution_count": 10,
     "metadata": {},
     "output_type": "execute_result"
    }
   ],
   "source": [
    "# Analyzing CUS_Month_Income\n",
    "df['CUS_Month_Income'].value_counts().head()"
   ]
  },
  {
   "cell_type": "code",
   "execution_count": 11,
   "id": "991068bd",
   "metadata": {},
   "outputs": [
    {
     "data": {
      "text/plain": [
       "0     106\n",
       "1      55\n",
       "4      34\n",
       "12     30\n",
       "20     28\n",
       "Name: # total debit transactions for S1, dtype: int64"
      ]
     },
     "execution_count": 11,
     "metadata": {},
     "output_type": "execute_result"
    }
   ],
   "source": [
    "# Analyzing # total debit transactions for S1\n",
    "df['# total debit transactions for S1'].value_counts().head()"
   ]
  },
  {
   "cell_type": "code",
   "execution_count": 12,
   "id": "8327ff15",
   "metadata": {},
   "outputs": [
    {
     "data": {
      "text/plain": [
       "0     152\n",
       "1      48\n",
       "2      34\n",
       "17     27\n",
       "13     26\n",
       "Name: # total debit transactions for S2, dtype: int64"
      ]
     },
     "execution_count": 12,
     "metadata": {},
     "output_type": "execute_result"
    }
   ],
   "source": [
    "# Analyzing # total debit transactions for S2\n",
    "df['# total debit transactions for S2'].value_counts().head()"
   ]
  },
  {
   "cell_type": "code",
   "execution_count": 13,
   "id": "dcb671f2",
   "metadata": {},
   "outputs": [
    {
     "data": {
      "text/plain": [
       "0     175\n",
       "1      55\n",
       "2      30\n",
       "13     24\n",
       "16     24\n",
       "Name: # total debit transactions for S3, dtype: int64"
      ]
     },
     "execution_count": 13,
     "metadata": {},
     "output_type": "execute_result"
    }
   ],
   "source": [
    "# Analyzing # total debit transactions for S3\n",
    "df['# total debit transactions for S3'].value_counts().head()"
   ]
  },
  {
   "cell_type": "code",
   "execution_count": 14,
   "id": "d16356a9",
   "metadata": {},
   "outputs": [
    {
     "data": {
      "text/plain": [
       "0.00       106\n",
       "693.60      11\n",
       "817.02       7\n",
       "1000.00      3\n",
       "907.80       3\n",
       "Name: total debit amount for S1, dtype: int64"
      ]
     },
     "execution_count": 14,
     "metadata": {},
     "output_type": "execute_result"
    }
   ],
   "source": [
    "# analyzing 'total debit amount for S1'\n",
    "df['total debit amount for S1'].value_counts().head()"
   ]
  },
  {
   "cell_type": "code",
   "execution_count": 15,
   "id": "d996b802",
   "metadata": {},
   "outputs": [
    {
     "data": {
      "text/plain": [
       "0.00       152\n",
       "693.60       6\n",
       "800.00       5\n",
       "414.12       5\n",
       "1200.00      5\n",
       "Name: total debit amount for S2, dtype: int64"
      ]
     },
     "execution_count": 15,
     "metadata": {},
     "output_type": "execute_result"
    }
   ],
   "source": [
    "# analyzing 'total debit amount for S2'\n",
    "df['total debit amount for S2'].value_counts().head()"
   ]
  },
  {
   "cell_type": "code",
   "execution_count": 16,
   "id": "ab36a8f4",
   "metadata": {},
   "outputs": [
    {
     "data": {
      "text/plain": [
       "0.00       175\n",
       "749.70      15\n",
       "200.00       7\n",
       "883.32       6\n",
       "1000.00      3\n",
       "Name: total debit amount for S3, dtype: int64"
      ]
     },
     "execution_count": 16,
     "metadata": {},
     "output_type": "execute_result"
    }
   ],
   "source": [
    "# analyzing 'total debit amount for S3'\n",
    "df['total debit amount for S3'].value_counts().head()"
   ]
  },
  {
   "cell_type": "code",
   "execution_count": 17,
   "id": "960492b8",
   "metadata": {},
   "outputs": [
    {
     "data": {
      "text/plain": [
       "0    341\n",
       "7    184\n",
       "6    107\n",
       "1     82\n",
       "8     74\n",
       "Name: # total credit transactions for S1, dtype: int64"
      ]
     },
     "execution_count": 17,
     "metadata": {},
     "output_type": "execute_result"
    }
   ],
   "source": [
    "# Analyzing '# total credit transactions for S1'\n",
    "df['# total credit transactions for S1'].value_counts().head()"
   ]
  },
  {
   "cell_type": "code",
   "execution_count": 18,
   "id": "18fef178",
   "metadata": {},
   "outputs": [
    {
     "data": {
      "text/plain": [
       "0    346\n",
       "6    195\n",
       "7     99\n",
       "1     69\n",
       "2     52\n",
       "Name: # total credit transactions for S2, dtype: int64"
      ]
     },
     "execution_count": 18,
     "metadata": {},
     "output_type": "execute_result"
    }
   ],
   "source": [
    "# Analyzing '# total credit transactions for S2'\n",
    "df['# total credit transactions for S2'].value_counts().head()"
   ]
  },
  {
   "cell_type": "code",
   "execution_count": 19,
   "id": "3e593f96",
   "metadata": {},
   "outputs": [
    {
     "data": {
      "text/plain": [
       "0    359\n",
       "7    123\n",
       "8     93\n",
       "6     72\n",
       "1     69\n",
       "Name: # total credit transactions for S3, dtype: int64"
      ]
     },
     "execution_count": 19,
     "metadata": {},
     "output_type": "execute_result"
    }
   ],
   "source": [
    "# Analyzing '# total credit transactions for S3'\n",
    "df['# total credit transactions for S3'].value_counts().head()"
   ]
  },
  {
   "cell_type": "code",
   "execution_count": 20,
   "id": "a0db030d",
   "metadata": {},
   "outputs": [
    {
     "data": {
      "text/plain": [
       "0.0        341\n",
       "10000.0      8\n",
       "2000.0       6\n",
       "20000.0      5\n",
       "4000.0       5\n",
       "Name: total credit amount for S1, dtype: int64"
      ]
     },
     "execution_count": 20,
     "metadata": {},
     "output_type": "execute_result"
    }
   ],
   "source": [
    "# Analyzing 'total credit amount for S1'\n",
    "df['total credit amount for S1'].value_counts().head()"
   ]
  },
  {
   "cell_type": "code",
   "execution_count": 21,
   "id": "877bf34a",
   "metadata": {},
   "outputs": [
    {
     "data": {
      "text/plain": [
       "0.0        346\n",
       "10000.0      7\n",
       "1000.0       5\n",
       "12000.0      5\n",
       "2000.0       4\n",
       "Name: total credit amount for S2, dtype: int64"
      ]
     },
     "execution_count": 21,
     "metadata": {},
     "output_type": "execute_result"
    }
   ],
   "source": [
    "# Analyzing 'total credit amount for S2'\n",
    "df['total credit amount for S2'].value_counts().head()"
   ]
  },
  {
   "cell_type": "code",
   "execution_count": 22,
   "id": "b3dc98d4",
   "metadata": {},
   "outputs": [
    {
     "data": {
      "text/plain": [
       "0.0        359\n",
       "3000.0       5\n",
       "13000.0      5\n",
       "24000.0      4\n",
       "1000.0       4\n",
       "Name: total credit amount for S3, dtype: int64"
      ]
     },
     "execution_count": 22,
     "metadata": {},
     "output_type": "execute_result"
    }
   ],
   "source": [
    "# Analyzing 'total credit amount for S3'\n",
    "df['total credit amount for S3'].value_counts().head()"
   ]
  },
  {
   "cell_type": "code",
   "execution_count": 23,
   "id": "d48829bf",
   "metadata": {},
   "outputs": [
    {
     "data": {
      "text/plain": [
       "0.00       12\n",
       "800.00      4\n",
       "1443.30     4\n",
       "693.60      4\n",
       "1700.34     3\n",
       "Name: total debit amount, dtype: int64"
      ]
     },
     "execution_count": 23,
     "metadata": {},
     "output_type": "execute_result"
    }
   ],
   "source": [
    "# Analyzing total debit amount\n",
    "df['total debit amount'].value_counts().head()"
   ]
  },
  {
   "cell_type": "code",
   "execution_count": 24,
   "id": "36dc74f9",
   "metadata": {},
   "outputs": [
    {
     "data": {
      "text/plain": [
       "1    37\n",
       "2    29\n",
       "3    23\n",
       "7    18\n",
       "6    17\n",
       "Name: total debit transactions, dtype: int64"
      ]
     },
     "execution_count": 24,
     "metadata": {},
     "output_type": "execute_result"
    }
   ],
   "source": [
    "# Analyzing total debit transaction\n",
    "df['total debit transactions'].value_counts().head()"
   ]
  },
  {
   "cell_type": "code",
   "execution_count": 25,
   "id": "d38a4575",
   "metadata": {},
   "outputs": [
    {
     "data": {
      "text/plain": [
       "0.0         212\n",
       "1000.0        7\n",
       "2000.0        6\n",
       "25000.0       4\n",
       "212000.0      3\n",
       "Name: total credit amount, dtype: int64"
      ]
     },
     "execution_count": 25,
     "metadata": {},
     "output_type": "execute_result"
    }
   ],
   "source": [
    "# Analyzing total credit amount\n",
    "df['total credit amount'].value_counts().head()"
   ]
  },
  {
   "cell_type": "code",
   "execution_count": 26,
   "id": "ea8cda7d",
   "metadata": {},
   "outputs": [
    {
     "data": {
      "text/plain": [
       "0     212\n",
       "21     82\n",
       "1      71\n",
       "20     66\n",
       "2      49\n",
       "Name: total credit transactions, dtype: int64"
      ]
     },
     "execution_count": 26,
     "metadata": {},
     "output_type": "execute_result"
    }
   ],
   "source": [
    "# Analyzing total credit transaction\n",
    "df['total credit transactions'].value_counts().head()"
   ]
  },
  {
   "cell_type": "code",
   "execution_count": 27,
   "id": "c0edd6df",
   "metadata": {
    "scrolled": true
   },
   "outputs": [
    {
     "data": {
      "text/plain": [
       "1    31\n",
       "6    23\n",
       "2    23\n",
       "3    22\n",
       "8    19\n",
       "Name: total transactions, dtype: int64"
      ]
     },
     "execution_count": 27,
     "metadata": {},
     "output_type": "execute_result"
    }
   ],
   "source": [
    "# Analyzing total transaction\n",
    "df['total transactions'].value_counts().head()"
   ]
  },
  {
   "cell_type": "code",
   "execution_count": 28,
   "id": "b110926b",
   "metadata": {},
   "outputs": [
    {
     "data": {
      "text/plain": [
       "2223    746\n",
       "2222    383\n",
       "2212     53\n",
       "2211     25\n",
       "2232     13\n",
       "Name: CUS_Target, dtype: int64"
      ]
     },
     "execution_count": 28,
     "metadata": {},
     "output_type": "execute_result"
    }
   ],
   "source": [
    "# Analyzing CUS_Target\n",
    "df['CUS_Target'].value_counts().head()"
   ]
  },
  {
   "cell_type": "code",
   "execution_count": 29,
   "id": "994248a9",
   "metadata": {},
   "outputs": [
    {
     "data": {
      "text/html": [
       "<div>\n",
       "<style scoped>\n",
       "    .dataframe tbody tr th:only-of-type {\n",
       "        vertical-align: middle;\n",
       "    }\n",
       "\n",
       "    .dataframe tbody tr th {\n",
       "        vertical-align: top;\n",
       "    }\n",
       "\n",
       "    .dataframe thead tr th {\n",
       "        text-align: left;\n",
       "    }\n",
       "\n",
       "    .dataframe thead tr:last-of-type th {\n",
       "        text-align: right;\n",
       "    }\n",
       "</style>\n",
       "<table border=\"1\" class=\"dataframe\">\n",
       "  <thead>\n",
       "    <tr>\n",
       "      <th></th>\n",
       "      <th colspan=\"2\" halign=\"left\">mean</th>\n",
       "      <th colspan=\"2\" halign=\"left\">median</th>\n",
       "      <th colspan=\"2\" halign=\"left\">max</th>\n",
       "      <th colspan=\"2\" halign=\"left\">min</th>\n",
       "    </tr>\n",
       "    <tr>\n",
       "      <th></th>\n",
       "      <th>AGE</th>\n",
       "      <th>CUS_Month_Income</th>\n",
       "      <th>AGE</th>\n",
       "      <th>CUS_Month_Income</th>\n",
       "      <th>AGE</th>\n",
       "      <th>CUS_Month_Income</th>\n",
       "      <th>AGE</th>\n",
       "      <th>CUS_Month_Income</th>\n",
       "    </tr>\n",
       "    <tr>\n",
       "      <th>Status</th>\n",
       "      <th></th>\n",
       "      <th></th>\n",
       "      <th></th>\n",
       "      <th></th>\n",
       "      <th></th>\n",
       "      <th></th>\n",
       "      <th></th>\n",
       "      <th></th>\n",
       "    </tr>\n",
       "  </thead>\n",
       "  <tbody>\n",
       "    <tr>\n",
       "      <th>ACTIVE</th>\n",
       "      <td>46.820939</td>\n",
       "      <td>2.685969e+06</td>\n",
       "      <td>46</td>\n",
       "      <td>1500000.0</td>\n",
       "      <td>87</td>\n",
       "      <td>50000000.0</td>\n",
       "      <td>14</td>\n",
       "      <td>0.0</td>\n",
       "    </tr>\n",
       "    <tr>\n",
       "      <th>CHURN</th>\n",
       "      <td>46.414097</td>\n",
       "      <td>3.123986e+06</td>\n",
       "      <td>44</td>\n",
       "      <td>1000000.0</td>\n",
       "      <td>119</td>\n",
       "      <td>80000000.0</td>\n",
       "      <td>14</td>\n",
       "      <td>0.0</td>\n",
       "    </tr>\n",
       "  </tbody>\n",
       "</table>\n",
       "</div>"
      ],
      "text/plain": [
       "             mean                  median                   max  \\\n",
       "              AGE CUS_Month_Income    AGE CUS_Month_Income  AGE   \n",
       "Status                                                            \n",
       "ACTIVE  46.820939     2.685969e+06     46        1500000.0   87   \n",
       "CHURN   46.414097     3.123986e+06     44        1000000.0  119   \n",
       "\n",
       "                        min                   \n",
       "       CUS_Month_Income AGE CUS_Month_Income  \n",
       "Status                                        \n",
       "ACTIVE       50000000.0  14              0.0  \n",
       "CHURN        80000000.0  14              0.0  "
      ]
     },
     "execution_count": 29,
     "metadata": {},
     "output_type": "execute_result"
    }
   ],
   "source": [
    "# Analyzing trend in data\n",
    "# Analyzing Age cus month income wrt Status\n",
    "pd.pivot_table(data = df, values = ['AGE', 'CUS_Month_Income'], index=['Status'], aggfunc=['mean', 'median', 'max', 'min'])"
   ]
  },
  {
   "cell_type": "code",
   "execution_count": 30,
   "id": "777b1177",
   "metadata": {},
   "outputs": [
    {
     "data": {
      "text/plain": [
       "<AxesSubplot:xlabel='Status', ylabel='AGE'>"
      ]
     },
     "execution_count": 30,
     "metadata": {},
     "output_type": "execute_result"
    },
    {
     "data": {
      "image/png": "[encoded data removed]",
      "text/plain": [
       "<Figure size 432x288 with 1 Axes>"
      ]
     },
     "metadata": {
      "needs_background": "light"
     },
     "output_type": "display_data"
    }
   ],
   "source": [
    "sns.set_palette(\"turbo\")\n",
    "sns.barplot(data = df, x='Status', y= 'AGE', estimator = np.median)"
   ]
  },
  {
   "cell_type": "code",
   "execution_count": 31,
   "id": "d04329af",
   "metadata": {},
   "outputs": [
    {
     "data": {
      "text/plain": [
       "<AxesSubplot:xlabel='Status', ylabel='CUS_Month_Income'>"
      ]
     },
     "execution_count": 31,
     "metadata": {},
     "output_type": "execute_result"
    },
    {
     "data": {
      "image/png": "[encoded data removed]",
      "text/plain": [
       "<Figure size 432x288 with 1 Axes>"
      ]
     },
     "metadata": {
      "needs_background": "light"
     },
     "output_type": "display_data"
    }
   ],
   "source": [
    "sns.set_palette(\"turbo\")\n",
    "sns.barplot(data = df, x='Status', y= 'CUS_Month_Income', estimator = np.median)"
   ]
  },
  {
   "cell_type": "code",
   "execution_count": 103,
   "id": "7f86dc71",
   "metadata": {},
   "outputs": [],
   "source": [
    "# mean is bite similars to median  in case of age \n",
    "# It means there are extreme values present in the data set(mean>median) in case income"
   ]
  },
  {
   "cell_type": "code",
   "execution_count": 32,
   "id": "febd2dac",
   "metadata": {},
   "outputs": [
    {
     "data": {
      "text/html": [
       "<div>\n",
       "<style scoped>\n",
       "    .dataframe tbody tr th:only-of-type {\n",
       "        vertical-align: middle;\n",
       "    }\n",
       "\n",
       "    .dataframe tbody tr th {\n",
       "        vertical-align: top;\n",
       "    }\n",
       "\n",
       "    .dataframe thead tr th {\n",
       "        text-align: left;\n",
       "    }\n",
       "\n",
       "    .dataframe thead tr:last-of-type th {\n",
       "        text-align: right;\n",
       "    }\n",
       "</style>\n",
       "<table border=\"1\" class=\"dataframe\">\n",
       "  <thead>\n",
       "    <tr>\n",
       "      <th></th>\n",
       "      <th colspan=\"3\" halign=\"left\">mean</th>\n",
       "      <th colspan=\"3\" halign=\"left\">median</th>\n",
       "      <th colspan=\"3\" halign=\"left\">max</th>\n",
       "    </tr>\n",
       "    <tr>\n",
       "      <th></th>\n",
       "      <th># total debit transactions for S1</th>\n",
       "      <th># total debit transactions for S2</th>\n",
       "      <th># total debit transactions for S3</th>\n",
       "      <th># total debit transactions for S1</th>\n",
       "      <th># total debit transactions for S2</th>\n",
       "      <th># total debit transactions for S3</th>\n",
       "      <th># total debit transactions for S1</th>\n",
       "      <th># total debit transactions for S2</th>\n",
       "      <th># total debit transactions for S3</th>\n",
       "    </tr>\n",
       "    <tr>\n",
       "      <th>Status</th>\n",
       "      <th></th>\n",
       "      <th></th>\n",
       "      <th></th>\n",
       "      <th></th>\n",
       "      <th></th>\n",
       "      <th></th>\n",
       "      <th></th>\n",
       "      <th></th>\n",
       "      <th></th>\n",
       "    </tr>\n",
       "  </thead>\n",
       "  <tbody>\n",
       "    <tr>\n",
       "      <th>ACTIVE</th>\n",
       "      <td>62.925636</td>\n",
       "      <td>65.280822</td>\n",
       "      <td>68.292564</td>\n",
       "      <td>29.5</td>\n",
       "      <td>32</td>\n",
       "      <td>35</td>\n",
       "      <td>715</td>\n",
       "      <td>547</td>\n",
       "      <td>757</td>\n",
       "    </tr>\n",
       "    <tr>\n",
       "      <th>CHURN</th>\n",
       "      <td>15.259912</td>\n",
       "      <td>12.458150</td>\n",
       "      <td>5.973568</td>\n",
       "      <td>6.0</td>\n",
       "      <td>2</td>\n",
       "      <td>0</td>\n",
       "      <td>366</td>\n",
       "      <td>450</td>\n",
       "      <td>77</td>\n",
       "    </tr>\n",
       "  </tbody>\n",
       "</table>\n",
       "</div>"
      ],
      "text/plain": [
       "                                    mean                                    \\\n",
       "       # total debit transactions for S1 # total debit transactions for S2   \n",
       "Status                                                                       \n",
       "ACTIVE                         62.925636                         65.280822   \n",
       "CHURN                          15.259912                         12.458150   \n",
       "\n",
       "                                                                    median  \\\n",
       "       # total debit transactions for S3 # total debit transactions for S1   \n",
       "Status                                                                       \n",
       "ACTIVE                         68.292564                              29.5   \n",
       "CHURN                           5.973568                               6.0   \n",
       "\n",
       "                                                                            \\\n",
       "       # total debit transactions for S2 # total debit transactions for S3   \n",
       "Status                                                                       \n",
       "ACTIVE                                32                                35   \n",
       "CHURN                                  2                                 0   \n",
       "\n",
       "                                     max                                    \\\n",
       "       # total debit transactions for S1 # total debit transactions for S2   \n",
       "Status                                                                       \n",
       "ACTIVE                               715                               547   \n",
       "CHURN                                366                               450   \n",
       "\n",
       "                                          \n",
       "       # total debit transactions for S3  \n",
       "Status                                    \n",
       "ACTIVE                               757  \n",
       "CHURN                                 77  "
      ]
     },
     "execution_count": 32,
     "metadata": {},
     "output_type": "execute_result"
    }
   ],
   "source": [
    "# Analyzing # total debit transactions for S1, S2, S3 w.r.t Status\n",
    "pd.pivot_table(data = df, values = ['# total debit transactions for S1','# total debit transactions for S2','# total debit transactions for S3'], index=['Status'], aggfunc=['mean', 'median', 'max'])"
   ]
  },
  {
   "cell_type": "code",
   "execution_count": 33,
   "id": "bd10221d",
   "metadata": {},
   "outputs": [
    {
     "data": {
      "text/plain": [
       "<AxesSubplot:xlabel='Status', ylabel='# total debit transactions for S1'>"
      ]
     },
     "execution_count": 33,
     "metadata": {},
     "output_type": "execute_result"
    },
    {
     "data": {
      "image/png": "[encoded data removed]",
      "text/plain": [
       "<Figure size 432x288 with 1 Axes>"
      ]
     },
     "metadata": {
      "needs_background": "light"
     },
     "output_type": "display_data"
    }
   ],
   "source": [
    "sns.barplot(data = df, x='Status', y= '# total debit transactions for S1', estimator = np.median)"
   ]
  },
  {
   "cell_type": "code",
   "execution_count": 34,
   "id": "153232b9",
   "metadata": {},
   "outputs": [
    {
     "data": {
      "text/plain": [
       "<AxesSubplot:xlabel='Status', ylabel='# total debit transactions for S2'>"
      ]
     },
     "execution_count": 34,
     "metadata": {},
     "output_type": "execute_result"
    },
    {
     "data": {
      "image/png": "[encoded data removed]",
      "text/plain": [
       "<Figure size 432x288 with 1 Axes>"
      ]
     },
     "metadata": {
      "needs_background": "light"
     },
     "output_type": "display_data"
    }
   ],
   "source": [
    "sns.set_palette(\"turbo\")\n",
    "sns.barplot(data = df, x='Status', y= '# total debit transactions for S2', estimator = np.median)"
   ]
  },
  {
   "cell_type": "code",
   "execution_count": 35,
   "id": "342ae33b",
   "metadata": {},
   "outputs": [
    {
     "data": {
      "text/plain": [
       "<AxesSubplot:xlabel='Status', ylabel='# total debit transactions for S3'>"
      ]
     },
     "execution_count": 35,
     "metadata": {},
     "output_type": "execute_result"
    },
    {
     "data": {
      "image/png": "[encoded data removed]",
      "text/plain": [
       "<Figure size 432x288 with 1 Axes>"
      ]
     },
     "metadata": {
      "needs_background": "light"
     },
     "output_type": "display_data"
    }
   ],
   "source": [
    "sns.barplot(data = df, x='Status', y= '# total debit transactions for S3', estimator = np.median)"
   ]
  },
  {
   "cell_type": "code",
   "execution_count": null,
   "id": "ac15643f",
   "metadata": {},
   "outputs": [],
   "source": [
    "# transaction are bite higher in in branch 1 in case of chrun customers,\n",
    "# And in case of branch 3 zero churn customers (transactions)\n",
    "# It means there are extreme values present in the data set(mean>median)"
   ]
  },
  {
   "cell_type": "code",
   "execution_count": 36,
   "id": "1240fcb7",
   "metadata": {},
   "outputs": [
    {
     "data": {
      "text/html": [
       "<div>\n",
       "<style scoped>\n",
       "    .dataframe tbody tr th:only-of-type {\n",
       "        vertical-align: middle;\n",
       "    }\n",
       "\n",
       "    .dataframe tbody tr th {\n",
       "        vertical-align: top;\n",
       "    }\n",
       "\n",
       "    .dataframe thead tr th {\n",
       "        text-align: left;\n",
       "    }\n",
       "\n",
       "    .dataframe thead tr:last-of-type th {\n",
       "        text-align: right;\n",
       "    }\n",
       "</style>\n",
       "<table border=\"1\" class=\"dataframe\">\n",
       "  <thead>\n",
       "    <tr>\n",
       "      <th></th>\n",
       "      <th colspan=\"3\" halign=\"left\">mean</th>\n",
       "      <th colspan=\"3\" halign=\"left\">median</th>\n",
       "      <th colspan=\"3\" halign=\"left\">max</th>\n",
       "    </tr>\n",
       "    <tr>\n",
       "      <th></th>\n",
       "      <th>total debit amount for S1</th>\n",
       "      <th>total debit amount for S2</th>\n",
       "      <th>total debit amount for S3</th>\n",
       "      <th>total debit amount for S1</th>\n",
       "      <th>total debit amount for S2</th>\n",
       "      <th>total debit amount for S3</th>\n",
       "      <th>total debit amount for S1</th>\n",
       "      <th>total debit amount for S2</th>\n",
       "      <th>total debit amount for S3</th>\n",
       "    </tr>\n",
       "    <tr>\n",
       "      <th>Status</th>\n",
       "      <th></th>\n",
       "      <th></th>\n",
       "      <th></th>\n",
       "      <th></th>\n",
       "      <th></th>\n",
       "      <th></th>\n",
       "      <th></th>\n",
       "      <th></th>\n",
       "      <th></th>\n",
       "    </tr>\n",
       "  </thead>\n",
       "  <tbody>\n",
       "    <tr>\n",
       "      <th>ACTIVE</th>\n",
       "      <td>365222.365851</td>\n",
       "      <td>364381.880215</td>\n",
       "      <td>368362.331546</td>\n",
       "      <td>72572.05</td>\n",
       "      <td>87131.895</td>\n",
       "      <td>90733.44</td>\n",
       "      <td>35733493.37</td>\n",
       "      <td>37233815.61</td>\n",
       "      <td>18665107.09</td>\n",
       "    </tr>\n",
       "    <tr>\n",
       "      <th>CHURN</th>\n",
       "      <td>87479.381938</td>\n",
       "      <td>59889.302115</td>\n",
       "      <td>26034.045330</td>\n",
       "      <td>6350.00</td>\n",
       "      <td>2000.000</td>\n",
       "      <td>0.00</td>\n",
       "      <td>8629664.55</td>\n",
       "      <td>4763854.62</td>\n",
       "      <td>845373.88</td>\n",
       "    </tr>\n",
       "  </tbody>\n",
       "</table>\n",
       "</div>"
      ],
      "text/plain": [
       "                            mean                            \\\n",
       "       total debit amount for S1 total debit amount for S2   \n",
       "Status                                                       \n",
       "ACTIVE             365222.365851             364381.880215   \n",
       "CHURN               87479.381938              59889.302115   \n",
       "\n",
       "                                                    median  \\\n",
       "       total debit amount for S3 total debit amount for S1   \n",
       "Status                                                       \n",
       "ACTIVE             368362.331546                  72572.05   \n",
       "CHURN               26034.045330                   6350.00   \n",
       "\n",
       "                                                            \\\n",
       "       total debit amount for S2 total debit amount for S3   \n",
       "Status                                                       \n",
       "ACTIVE                 87131.895                  90733.44   \n",
       "CHURN                   2000.000                      0.00   \n",
       "\n",
       "                             max                            \\\n",
       "       total debit amount for S1 total debit amount for S2   \n",
       "Status                                                       \n",
       "ACTIVE               35733493.37               37233815.61   \n",
       "CHURN                 8629664.55                4763854.62   \n",
       "\n",
       "                                  \n",
       "       total debit amount for S3  \n",
       "Status                            \n",
       "ACTIVE               18665107.09  \n",
       "CHURN                  845373.88  "
      ]
     },
     "execution_count": 36,
     "metadata": {},
     "output_type": "execute_result"
    }
   ],
   "source": [
    "# Analyzing total debit amount for S1 S2 S3 w.r.t Status\n",
    "pd.pivot_table(data = df, values = ['total debit amount for S1','total debit amount for S2','total debit amount for S3'], index=['Status'], aggfunc =['mean', 'median', 'max'])"
   ]
  },
  {
   "cell_type": "code",
   "execution_count": 37,
   "id": "714a743b",
   "metadata": {},
   "outputs": [
    {
     "data": {
      "text/plain": [
       "<AxesSubplot:xlabel='Status', ylabel='total debit amount for S1'>"
      ]
     },
     "execution_count": 37,
     "metadata": {},
     "output_type": "execute_result"
    },
    {
     "data": {
      "image/png": "[encoded data removed]",
      "text/plain": [
       "<Figure size 432x288 with 1 Axes>"
      ]
     },
     "metadata": {
      "needs_background": "light"
     },
     "output_type": "display_data"
    }
   ],
   "source": [
    "sns.barplot(data = df, x='Status', y= 'total debit amount for S1', estimator = np.median)"
   ]
  },
  {
   "cell_type": "code",
   "execution_count": 38,
   "id": "9d0b4cb8",
   "metadata": {},
   "outputs": [
    {
     "data": {
      "text/plain": [
       "<AxesSubplot:xlabel='Status', ylabel='total debit amount for S2'>"
      ]
     },
     "execution_count": 38,
     "metadata": {},
     "output_type": "execute_result"
    },
    {
     "data": {
      "image/png": "[encoded data removed]",
      "text/plain": [
       "<Figure size 432x288 with 1 Axes>"
      ]
     },
     "metadata": {
      "needs_background": "light"
     },
     "output_type": "display_data"
    }
   ],
   "source": [
    "sns.barplot(data = df, x='Status', y= 'total debit amount for S2', estimator = np.median)"
   ]
  },
  {
   "cell_type": "code",
   "execution_count": 39,
   "id": "40c91891",
   "metadata": {},
   "outputs": [
    {
     "data": {
      "text/plain": [
       "<AxesSubplot:xlabel='Status', ylabel='total debit amount for S3'>"
      ]
     },
     "execution_count": 39,
     "metadata": {},
     "output_type": "execute_result"
    },
    {
     "data": {
      "image/png": "[encoded data removed]",
      "text/plain": [
       "<Figure size 432x288 with 1 Axes>"
      ]
     },
     "metadata": {
      "needs_background": "light"
     },
     "output_type": "display_data"
    }
   ],
   "source": [
    "sns.barplot(data = df, x='Status', y= 'total debit amount for S3', estimator = np.median)"
   ]
  },
  {
   "cell_type": "code",
   "execution_count": null,
   "id": "fa0796bd",
   "metadata": {},
   "outputs": [],
   "source": [
    "# debit amount are bite higher in in branch 1 in case of chrun customers,\n",
    "# And in case of branch 3 zero churn customers (amount)\n",
    "# It means there are extreme values present in the data set(mean>median)"
   ]
  },
  {
   "cell_type": "code",
   "execution_count": 40,
   "id": "d982298b",
   "metadata": {},
   "outputs": [
    {
     "data": {
      "text/html": [
       "<div>\n",
       "<style scoped>\n",
       "    .dataframe tbody tr th:only-of-type {\n",
       "        vertical-align: middle;\n",
       "    }\n",
       "\n",
       "    .dataframe tbody tr th {\n",
       "        vertical-align: top;\n",
       "    }\n",
       "\n",
       "    .dataframe thead tr th {\n",
       "        text-align: left;\n",
       "    }\n",
       "\n",
       "    .dataframe thead tr:last-of-type th {\n",
       "        text-align: right;\n",
       "    }\n",
       "</style>\n",
       "<table border=\"1\" class=\"dataframe\">\n",
       "  <thead>\n",
       "    <tr>\n",
       "      <th></th>\n",
       "      <th colspan=\"3\" halign=\"left\">mean</th>\n",
       "      <th colspan=\"3\" halign=\"left\">median</th>\n",
       "      <th colspan=\"3\" halign=\"left\">max</th>\n",
       "    </tr>\n",
       "    <tr>\n",
       "      <th></th>\n",
       "      <th># total credit transactions for S1</th>\n",
       "      <th># total credit transactions for S2</th>\n",
       "      <th># total credit transactions for S3</th>\n",
       "      <th># total credit transactions for S1</th>\n",
       "      <th># total credit transactions for S2</th>\n",
       "      <th># total credit transactions for S3</th>\n",
       "      <th># total credit transactions for S1</th>\n",
       "      <th># total credit transactions for S2</th>\n",
       "      <th># total credit transactions for S3</th>\n",
       "    </tr>\n",
       "    <tr>\n",
       "      <th>Status</th>\n",
       "      <th></th>\n",
       "      <th></th>\n",
       "      <th></th>\n",
       "      <th></th>\n",
       "      <th></th>\n",
       "      <th></th>\n",
       "      <th></th>\n",
       "      <th></th>\n",
       "      <th></th>\n",
       "    </tr>\n",
       "  </thead>\n",
       "  <tbody>\n",
       "    <tr>\n",
       "      <th>ACTIVE</th>\n",
       "      <td>8.656556</td>\n",
       "      <td>9.493151</td>\n",
       "      <td>10.216243</td>\n",
       "      <td>7</td>\n",
       "      <td>6</td>\n",
       "      <td>7</td>\n",
       "      <td>189</td>\n",
       "      <td>142</td>\n",
       "      <td>169</td>\n",
       "    </tr>\n",
       "    <tr>\n",
       "      <th>CHURN</th>\n",
       "      <td>2.916300</td>\n",
       "      <td>2.766520</td>\n",
       "      <td>1.740088</td>\n",
       "      <td>0</td>\n",
       "      <td>0</td>\n",
       "      <td>0</td>\n",
       "      <td>104</td>\n",
       "      <td>126</td>\n",
       "      <td>39</td>\n",
       "    </tr>\n",
       "  </tbody>\n",
       "</table>\n",
       "</div>"
      ],
      "text/plain": [
       "                                     mean                                     \\\n",
       "       # total credit transactions for S1 # total credit transactions for S2   \n",
       "Status                                                                         \n",
       "ACTIVE                           8.656556                           9.493151   \n",
       "CHURN                            2.916300                           2.766520   \n",
       "\n",
       "                                                                      median  \\\n",
       "       # total credit transactions for S3 # total credit transactions for S1   \n",
       "Status                                                                         \n",
       "ACTIVE                          10.216243                                  7   \n",
       "CHURN                            1.740088                                  0   \n",
       "\n",
       "                                                                              \\\n",
       "       # total credit transactions for S2 # total credit transactions for S3   \n",
       "Status                                                                         \n",
       "ACTIVE                                  6                                  7   \n",
       "CHURN                                   0                                  0   \n",
       "\n",
       "                                      max                                     \\\n",
       "       # total credit transactions for S1 # total credit transactions for S2   \n",
       "Status                                                                         \n",
       "ACTIVE                                189                                142   \n",
       "CHURN                                 104                                126   \n",
       "\n",
       "                                           \n",
       "       # total credit transactions for S3  \n",
       "Status                                     \n",
       "ACTIVE                                169  \n",
       "CHURN                                  39  "
      ]
     },
     "execution_count": 40,
     "metadata": {},
     "output_type": "execute_result"
    }
   ],
   "source": [
    "# Analyzing # total credit transactions for S1 S2 S3 w.r.t Status\n",
    "pd.pivot_table(data = df, values = ['# total credit transactions for S1','# total credit transactions for S2','# total credit transactions for S3'], index=['Status'], aggfunc =['mean', 'median', 'max'])"
   ]
  },
  {
   "cell_type": "code",
   "execution_count": 41,
   "id": "09015064",
   "metadata": {},
   "outputs": [
    {
     "data": {
      "text/plain": [
       "<AxesSubplot:xlabel='Status', ylabel='# total credit transactions for S1'>"
      ]
     },
     "execution_count": 41,
     "metadata": {},
     "output_type": "execute_result"
    },
    {
     "data": {
      "image/png": "[encoded data removed]",
      "text/plain": [
       "<Figure size 432x288 with 1 Axes>"
      ]
     },
     "metadata": {
      "needs_background": "light"
     },
     "output_type": "display_data"
    }
   ],
   "source": [
    "sns.barplot(data = df, x='Status', y= '# total credit transactions for S1', estimator = np.median)"
   ]
  },
  {
   "cell_type": "code",
   "execution_count": 42,
   "id": "62b03c99",
   "metadata": {},
   "outputs": [
    {
     "data": {
      "text/plain": [
       "<AxesSubplot:xlabel='Status', ylabel='# total credit transactions for S2'>"
      ]
     },
     "execution_count": 42,
     "metadata": {},
     "output_type": "execute_result"
    },
    {
     "data": {
      "image/png": "[encoded data removed]",
      "text/plain": [
       "<Figure size 432x288 with 1 Axes>"
      ]
     },
     "metadata": {
      "needs_background": "light"
     },
     "output_type": "display_data"
    }
   ],
   "source": [
    "sns.barplot(data = df, x='Status', y= '# total credit transactions for S2', estimator = np.median)"
   ]
  },
  {
   "cell_type": "code",
   "execution_count": 43,
   "id": "1236bff9",
   "metadata": {},
   "outputs": [
    {
     "data": {
      "text/plain": [
       "<AxesSubplot:xlabel='Status', ylabel='# total credit transactions for S3'>"
      ]
     },
     "execution_count": 43,
     "metadata": {},
     "output_type": "execute_result"
    },
    {
     "data": {
      "image/png": "[encoded data removed]",
      "text/plain": [
       "<Figure size 432x288 with 1 Axes>"
      ]
     },
     "metadata": {
      "needs_background": "light"
     },
     "output_type": "display_data"
    }
   ],
   "source": [
    "sns.barplot(data = df, x='Status', y= '# total credit transactions for S3', estimator = np.median)"
   ]
  },
  {
   "cell_type": "code",
   "execution_count": 104,
   "id": "4417b195",
   "metadata": {},
   "outputs": [],
   "source": [
    "# credit transaction are zero in all branchs in case of chrun customers,\n",
    "# It seems to be like churn customers are to using credit card \n",
    "# It means there are extreme values present in the data set(difference btw median and max)"
   ]
  },
  {
   "cell_type": "code",
   "execution_count": 44,
   "id": "0b4cf76a",
   "metadata": {},
   "outputs": [
    {
     "data": {
      "text/html": [
       "<div>\n",
       "<style scoped>\n",
       "    .dataframe tbody tr th:only-of-type {\n",
       "        vertical-align: middle;\n",
       "    }\n",
       "\n",
       "    .dataframe tbody tr th {\n",
       "        vertical-align: top;\n",
       "    }\n",
       "\n",
       "    .dataframe thead tr th {\n",
       "        text-align: left;\n",
       "    }\n",
       "\n",
       "    .dataframe thead tr:last-of-type th {\n",
       "        text-align: right;\n",
       "    }\n",
       "</style>\n",
       "<table border=\"1\" class=\"dataframe\">\n",
       "  <thead>\n",
       "    <tr>\n",
       "      <th></th>\n",
       "      <th colspan=\"3\" halign=\"left\">mean</th>\n",
       "      <th colspan=\"3\" halign=\"left\">median</th>\n",
       "      <th colspan=\"3\" halign=\"left\">max</th>\n",
       "    </tr>\n",
       "    <tr>\n",
       "      <th></th>\n",
       "      <th>total credit amount for S1</th>\n",
       "      <th>total credit amount for S2</th>\n",
       "      <th>total credit amount for S3</th>\n",
       "      <th>total credit amount for S1</th>\n",
       "      <th>total credit amount for S2</th>\n",
       "      <th>total credit amount for S3</th>\n",
       "      <th>total credit amount for S1</th>\n",
       "      <th>total credit amount for S2</th>\n",
       "      <th>total credit amount for S3</th>\n",
       "    </tr>\n",
       "    <tr>\n",
       "      <th>Status</th>\n",
       "      <th></th>\n",
       "      <th></th>\n",
       "      <th></th>\n",
       "      <th></th>\n",
       "      <th></th>\n",
       "      <th></th>\n",
       "      <th></th>\n",
       "      <th></th>\n",
       "      <th></th>\n",
       "    </tr>\n",
       "  </thead>\n",
       "  <tbody>\n",
       "    <tr>\n",
       "      <th>ACTIVE</th>\n",
       "      <td>364959.288845</td>\n",
       "      <td>377359.314843</td>\n",
       "      <td>364140.900421</td>\n",
       "      <td>57736.72</td>\n",
       "      <td>70512.45</td>\n",
       "      <td>65591.985</td>\n",
       "      <td>49206876.78</td>\n",
       "      <td>17537991.91</td>\n",
       "      <td>37647077.15</td>\n",
       "    </tr>\n",
       "    <tr>\n",
       "      <th>CHURN</th>\n",
       "      <td>56806.582467</td>\n",
       "      <td>47351.616123</td>\n",
       "      <td>22257.761630</td>\n",
       "      <td>0.00</td>\n",
       "      <td>0.00</td>\n",
       "      <td>0.000</td>\n",
       "      <td>3850000.00</td>\n",
       "      <td>5387378.32</td>\n",
       "      <td>1114000.00</td>\n",
       "    </tr>\n",
       "  </tbody>\n",
       "</table>\n",
       "</div>"
      ],
      "text/plain": [
       "                             mean                             \\\n",
       "       total credit amount for S1 total credit amount for S2   \n",
       "Status                                                         \n",
       "ACTIVE              364959.288845              377359.314843   \n",
       "CHURN                56806.582467               47351.616123   \n",
       "\n",
       "                                                      median  \\\n",
       "       total credit amount for S3 total credit amount for S1   \n",
       "Status                                                         \n",
       "ACTIVE              364140.900421                   57736.72   \n",
       "CHURN                22257.761630                       0.00   \n",
       "\n",
       "                                                              \\\n",
       "       total credit amount for S2 total credit amount for S3   \n",
       "Status                                                         \n",
       "ACTIVE                   70512.45                  65591.985   \n",
       "CHURN                        0.00                      0.000   \n",
       "\n",
       "                              max                             \\\n",
       "       total credit amount for S1 total credit amount for S2   \n",
       "Status                                                         \n",
       "ACTIVE                49206876.78                17537991.91   \n",
       "CHURN                  3850000.00                 5387378.32   \n",
       "\n",
       "                                   \n",
       "       total credit amount for S3  \n",
       "Status                             \n",
       "ACTIVE                37647077.15  \n",
       "CHURN                  1114000.00  "
      ]
     },
     "execution_count": 44,
     "metadata": {},
     "output_type": "execute_result"
    }
   ],
   "source": [
    "# Analyzing total credit amount for S1 S2 S3 w.r.t Status\n",
    "pd.pivot_table(data = df, values = ['total credit amount for S1','total credit amount for S2','total credit amount for S3'], index=['Status'], aggfunc =['mean', 'median', 'max'])"
   ]
  },
  {
   "cell_type": "code",
   "execution_count": 45,
   "id": "4142d5d4",
   "metadata": {},
   "outputs": [
    {
     "data": {
      "text/plain": [
       "<AxesSubplot:xlabel='Status', ylabel='total credit amount for S1'>"
      ]
     },
     "execution_count": 45,
     "metadata": {},
     "output_type": "execute_result"
    },
    {
     "data": {
      "image/png": "[encoded data removed]",
      "text/plain": [
       "<Figure size 432x288 with 1 Axes>"
      ]
     },
     "metadata": {
      "needs_background": "light"
     },
     "output_type": "display_data"
    }
   ],
   "source": [
    "sns.barplot(data = df, x='Status', y= 'total credit amount for S1', estimator = np.median)"
   ]
  },
  {
   "cell_type": "code",
   "execution_count": 46,
   "id": "968a42b7",
   "metadata": {},
   "outputs": [
    {
     "data": {
      "text/plain": [
       "<AxesSubplot:xlabel='Status', ylabel='total credit amount for S2'>"
      ]
     },
     "execution_count": 46,
     "metadata": {},
     "output_type": "execute_result"
    },
    {
     "data": {
      "image/png": "[encoded data removed]",
      "text/plain": [
       "<Figure size 432x288 with 1 Axes>"
      ]
     },
     "metadata": {
      "needs_background": "light"
     },
     "output_type": "display_data"
    }
   ],
   "source": [
    "sns.barplot(data = df, x='Status', y= 'total credit amount for S2', estimator = np.median)"
   ]
  },
  {
   "cell_type": "code",
   "execution_count": 47,
   "id": "8a2688c2",
   "metadata": {},
   "outputs": [
    {
     "data": {
      "text/plain": [
       "<AxesSubplot:xlabel='Status', ylabel='total credit amount for S3'>"
      ]
     },
     "execution_count": 47,
     "metadata": {},
     "output_type": "execute_result"
    },
    {
     "data": {
      "image/png": "[encoded data removed]",
      "text/plain": [
       "<Figure size 432x288 with 1 Axes>"
      ]
     },
     "metadata": {
      "needs_background": "light"
     },
     "output_type": "display_data"
    }
   ],
   "source": [
    "sns.barplot(data = df, x='Status', y= 'total credit amount for S3', estimator = np.median)"
   ]
  },
  {
   "cell_type": "code",
   "execution_count": null,
   "id": "e793d167",
   "metadata": {},
   "outputs": [],
   "source": [
    "# credit transaction are zero in all branchs in case of chrun customers,\n",
    "# It seems to be like churn customers are to using credit card  because there is zero credit amount  for all branches.\n",
    "# It means there are extreme values present in the data set(mean> median)"
   ]
  },
  {
   "cell_type": "code",
   "execution_count": 48,
   "id": "b4a4b55e",
   "metadata": {},
   "outputs": [
    {
     "data": {
      "text/html": [
       "<div>\n",
       "<style scoped>\n",
       "    .dataframe tbody tr th:only-of-type {\n",
       "        vertical-align: middle;\n",
       "    }\n",
       "\n",
       "    .dataframe tbody tr th {\n",
       "        vertical-align: top;\n",
       "    }\n",
       "\n",
       "    .dataframe thead tr th {\n",
       "        text-align: left;\n",
       "    }\n",
       "\n",
       "    .dataframe thead tr:last-of-type th {\n",
       "        text-align: right;\n",
       "    }\n",
       "</style>\n",
       "<table border=\"1\" class=\"dataframe\">\n",
       "  <thead>\n",
       "    <tr>\n",
       "      <th></th>\n",
       "      <th colspan=\"2\" halign=\"left\">mean</th>\n",
       "      <th colspan=\"2\" halign=\"left\">median</th>\n",
       "      <th colspan=\"2\" halign=\"left\">max</th>\n",
       "    </tr>\n",
       "    <tr>\n",
       "      <th></th>\n",
       "      <th>total debit amount</th>\n",
       "      <th>total debit transactions</th>\n",
       "      <th>total debit amount</th>\n",
       "      <th>total debit transactions</th>\n",
       "      <th>total debit amount</th>\n",
       "      <th>total debit transactions</th>\n",
       "    </tr>\n",
       "    <tr>\n",
       "      <th>Status</th>\n",
       "      <th></th>\n",
       "      <th></th>\n",
       "      <th></th>\n",
       "      <th></th>\n",
       "      <th></th>\n",
       "      <th></th>\n",
       "    </tr>\n",
       "  </thead>\n",
       "  <tbody>\n",
       "    <tr>\n",
       "      <th>ACTIVE</th>\n",
       "      <td>1.097967e+06</td>\n",
       "      <td>196.499022</td>\n",
       "      <td>283017.00</td>\n",
       "      <td>101.5</td>\n",
       "      <td>69972617.41</td>\n",
       "      <td>1859</td>\n",
       "    </tr>\n",
       "    <tr>\n",
       "      <th>CHURN</th>\n",
       "      <td>1.734027e+05</td>\n",
       "      <td>33.691630</td>\n",
       "      <td>20107.72</td>\n",
       "      <td>14.0</td>\n",
       "      <td>9366032.26</td>\n",
       "      <td>893</td>\n",
       "    </tr>\n",
       "  </tbody>\n",
       "</table>\n",
       "</div>"
      ],
      "text/plain": [
       "                     mean                                      median  \\\n",
       "       total debit amount total debit transactions total debit amount   \n",
       "Status                                                                  \n",
       "ACTIVE       1.097967e+06               196.499022          283017.00   \n",
       "CHURN        1.734027e+05                33.691630           20107.72   \n",
       "\n",
       "                                               max                           \n",
       "       total debit transactions total debit amount total debit transactions  \n",
       "Status                                                                       \n",
       "ACTIVE                    101.5        69972617.41                     1859  \n",
       "CHURN                      14.0         9366032.26                      893  "
      ]
     },
     "execution_count": 48,
     "metadata": {},
     "output_type": "execute_result"
    }
   ],
   "source": [
    "# analyzing total debit amount and total debit transactions wrt churn\n",
    "pd.pivot_table(data= df, values =['total debit amount', 'total debit transactions'], index = ['Status'], aggfunc=['mean', 'median', 'max'])"
   ]
  },
  {
   "cell_type": "code",
   "execution_count": 49,
   "id": "b90ba2e6",
   "metadata": {},
   "outputs": [
    {
     "data": {
      "text/plain": [
       "<AxesSubplot:xlabel='Status', ylabel='total debit amount'>"
      ]
     },
     "execution_count": 49,
     "metadata": {},
     "output_type": "execute_result"
    },
    {
     "data": {
      "image/png": "[encoded data removed]",
      "text/plain": [
       "<Figure size 432x288 with 1 Axes>"
      ]
     },
     "metadata": {
      "needs_background": "light"
     },
     "output_type": "display_data"
    }
   ],
   "source": [
    "sns.barplot(data = df, x='Status', y= 'total debit amount', estimator = np.median)"
   ]
  },
  {
   "cell_type": "code",
   "execution_count": 50,
   "id": "9650f847",
   "metadata": {},
   "outputs": [
    {
     "data": {
      "text/plain": [
       "<AxesSubplot:xlabel='Status', ylabel='total debit transactions'>"
      ]
     },
     "execution_count": 50,
     "metadata": {},
     "output_type": "execute_result"
    },
    {
     "data": {
      "image/png": "[encoded data removed]",
      "text/plain": [
       "<Figure size 432x288 with 1 Axes>"
      ]
     },
     "metadata": {
      "needs_background": "light"
     },
     "output_type": "display_data"
    }
   ],
   "source": [
    "sns.barplot(data = df, x='Status', y= 'total debit transactions', estimator = np.median)"
   ]
  },
  {
   "cell_type": "code",
   "execution_count": null,
   "id": "730a69b1",
   "metadata": {},
   "outputs": [],
   "source": [
    "# In case of chrun customers total debit amount and transaction are pretty low compare to active customers."
   ]
  },
  {
   "cell_type": "code",
   "execution_count": 51,
   "id": "793e6491",
   "metadata": {},
   "outputs": [
    {
     "data": {
      "text/html": [
       "<div>\n",
       "<style scoped>\n",
       "    .dataframe tbody tr th:only-of-type {\n",
       "        vertical-align: middle;\n",
       "    }\n",
       "\n",
       "    .dataframe tbody tr th {\n",
       "        vertical-align: top;\n",
       "    }\n",
       "\n",
       "    .dataframe thead tr th {\n",
       "        text-align: left;\n",
       "    }\n",
       "\n",
       "    .dataframe thead tr:last-of-type th {\n",
       "        text-align: right;\n",
       "    }\n",
       "</style>\n",
       "<table border=\"1\" class=\"dataframe\">\n",
       "  <thead>\n",
       "    <tr>\n",
       "      <th></th>\n",
       "      <th colspan=\"2\" halign=\"left\">mean</th>\n",
       "      <th colspan=\"2\" halign=\"left\">median</th>\n",
       "      <th colspan=\"2\" halign=\"left\">max</th>\n",
       "    </tr>\n",
       "    <tr>\n",
       "      <th></th>\n",
       "      <th>total credit amount</th>\n",
       "      <th>total credit transactions</th>\n",
       "      <th>total credit amount</th>\n",
       "      <th>total credit transactions</th>\n",
       "      <th>total credit amount</th>\n",
       "      <th>total credit transactions</th>\n",
       "    </tr>\n",
       "    <tr>\n",
       "      <th>Status</th>\n",
       "      <th></th>\n",
       "      <th></th>\n",
       "      <th></th>\n",
       "      <th></th>\n",
       "      <th></th>\n",
       "      <th></th>\n",
       "    </tr>\n",
       "  </thead>\n",
       "  <tbody>\n",
       "    <tr>\n",
       "      <th>ACTIVE</th>\n",
       "      <td>1.106460e+06</td>\n",
       "      <td>28.365949</td>\n",
       "      <td>225062.56</td>\n",
       "      <td>20</td>\n",
       "      <td>1.043919e+08</td>\n",
       "      <td>429</td>\n",
       "    </tr>\n",
       "    <tr>\n",
       "      <th>CHURN</th>\n",
       "      <td>1.264160e+05</td>\n",
       "      <td>7.422907</td>\n",
       "      <td>5000.00</td>\n",
       "      <td>1</td>\n",
       "      <td>7.890360e+06</td>\n",
       "      <td>269</td>\n",
       "    </tr>\n",
       "  </tbody>\n",
       "</table>\n",
       "</div>"
      ],
      "text/plain": [
       "                      mean                                        median  \\\n",
       "       total credit amount total credit transactions total credit amount   \n",
       "Status                                                                     \n",
       "ACTIVE        1.106460e+06                 28.365949           225062.56   \n",
       "CHURN         1.264160e+05                  7.422907             5000.00   \n",
       "\n",
       "                                                 max                            \n",
       "       total credit transactions total credit amount total credit transactions  \n",
       "Status                                                                          \n",
       "ACTIVE                        20        1.043919e+08                       429  \n",
       "CHURN                          1        7.890360e+06                       269  "
      ]
     },
     "execution_count": 51,
     "metadata": {},
     "output_type": "execute_result"
    }
   ],
   "source": [
    "# analyzing total credit amount and total credit transactions wrt churn\n",
    "pd.pivot_table(data= df, values =['total credit amount', 'total credit transactions'], index = ['Status'], aggfunc=['mean', 'median', 'max'])"
   ]
  },
  {
   "cell_type": "code",
   "execution_count": 52,
   "id": "530f0796",
   "metadata": {},
   "outputs": [
    {
     "data": {
      "text/plain": [
       "<AxesSubplot:xlabel='Status', ylabel='total credit amount'>"
      ]
     },
     "execution_count": 52,
     "metadata": {},
     "output_type": "execute_result"
    },
    {
     "data": {
      "image/png": "[encoded data removed]",
      "text/plain": [
       "<Figure size 432x288 with 1 Axes>"
      ]
     },
     "metadata": {
      "needs_background": "light"
     },
     "output_type": "display_data"
    }
   ],
   "source": [
    "sns.barplot(data = df, x='Status', y= 'total credit amount', estimator = np.median)"
   ]
  },
  {
   "cell_type": "code",
   "execution_count": 53,
   "id": "9dab6173",
   "metadata": {},
   "outputs": [
    {
     "data": {
      "text/plain": [
       "<AxesSubplot:xlabel='Status', ylabel='total credit transactions'>"
      ]
     },
     "execution_count": 53,
     "metadata": {},
     "output_type": "execute_result"
    },
    {
     "data": {
      "image/png": "[encoded data removed]",
      "text/plain": [
       "<Figure size 432x288 with 1 Axes>"
      ]
     },
     "metadata": {
      "needs_background": "light"
     },
     "output_type": "display_data"
    }
   ],
   "source": [
    "sns.barplot(data = df, x='Status', y= 'total credit transactions', estimator = np.median)"
   ]
  },
  {
   "cell_type": "code",
   "execution_count": null,
   "id": "ed2e2a91",
   "metadata": {},
   "outputs": [],
   "source": [
    "# In case of chrun customers total credit amount and transaction are pretty low compare to active customers."
   ]
  },
  {
   "cell_type": "code",
   "execution_count": 54,
   "id": "b08cdc5d",
   "metadata": {},
   "outputs": [
    {
     "data": {
      "text/html": [
       "<div>\n",
       "<style scoped>\n",
       "    .dataframe tbody tr th:only-of-type {\n",
       "        vertical-align: middle;\n",
       "    }\n",
       "\n",
       "    .dataframe tbody tr th {\n",
       "        vertical-align: top;\n",
       "    }\n",
       "\n",
       "    .dataframe thead tr th {\n",
       "        text-align: left;\n",
       "    }\n",
       "\n",
       "    .dataframe thead tr:last-of-type th {\n",
       "        text-align: right;\n",
       "    }\n",
       "</style>\n",
       "<table border=\"1\" class=\"dataframe\">\n",
       "  <thead>\n",
       "    <tr>\n",
       "      <th></th>\n",
       "      <th>mean</th>\n",
       "      <th>median</th>\n",
       "      <th>max</th>\n",
       "    </tr>\n",
       "    <tr>\n",
       "      <th></th>\n",
       "      <th>total transactions</th>\n",
       "      <th>total transactions</th>\n",
       "      <th>total transactions</th>\n",
       "    </tr>\n",
       "    <tr>\n",
       "      <th>Status</th>\n",
       "      <th></th>\n",
       "      <th></th>\n",
       "      <th></th>\n",
       "    </tr>\n",
       "  </thead>\n",
       "  <tbody>\n",
       "    <tr>\n",
       "      <th>ACTIVE</th>\n",
       "      <td>224.864971</td>\n",
       "      <td>120.5</td>\n",
       "      <td>2174</td>\n",
       "    </tr>\n",
       "    <tr>\n",
       "      <th>CHURN</th>\n",
       "      <td>41.114537</td>\n",
       "      <td>17.0</td>\n",
       "      <td>1090</td>\n",
       "    </tr>\n",
       "  </tbody>\n",
       "</table>\n",
       "</div>"
      ],
      "text/plain": [
       "                     mean             median                max\n",
       "       total transactions total transactions total transactions\n",
       "Status                                                         \n",
       "ACTIVE         224.864971              120.5               2174\n",
       "CHURN           41.114537               17.0               1090"
      ]
     },
     "execution_count": 54,
     "metadata": {},
     "output_type": "execute_result"
    }
   ],
   "source": [
    "# analyzing total transaction\n",
    "pd.pivot_table(data=df, values=['total transactions'], index = ['Status'], aggfunc=['mean', 'median', 'max'])"
   ]
  },
  {
   "cell_type": "code",
   "execution_count": 55,
   "id": "863eb969",
   "metadata": {},
   "outputs": [
    {
     "data": {
      "text/plain": [
       "<AxesSubplot:xlabel='Status', ylabel='total transactions'>"
      ]
     },
     "execution_count": 55,
     "metadata": {},
     "output_type": "execute_result"
    },
    {
     "data": {
      "image/png": "[encoded data removed]",
      "text/plain": [
       "<Figure size 432x288 with 1 Axes>"
      ]
     },
     "metadata": {
      "needs_background": "light"
     },
     "output_type": "display_data"
    }
   ],
   "source": [
    "sns.barplot(data = df, x='Status', y= 'total transactions', estimator = np.median)"
   ]
  },
  {
   "cell_type": "code",
   "execution_count": 56,
   "id": "cd82a3b0",
   "metadata": {
    "scrolled": true
   },
   "outputs": [
    {
     "data": {
      "text/plain": [
       "<AxesSubplot:>"
      ]
     },
     "execution_count": 56,
     "metadata": {},
     "output_type": "execute_result"
    },
    {
     "data": {
      "image/png": "[encoded data removed]",
      "text/plain": [
       "<Figure size 1080x720 with 2 Axes>"
      ]
     },
     "metadata": {
      "needs_background": "light"
     },
     "output_type": "display_data"
    }
   ],
   "source": [
    "# checking correaltion before droping any columns\n",
    "plt.figure(figsize=(15,10))\n",
    "sns.set_palette('BuPu')\n",
    "sns.heatmap(df.corr(), annot=True)"
   ]
  },
  {
   "cell_type": "markdown",
   "id": "1f18d495",
   "metadata": {},
   "source": [
    "### Correlation between the variables convey lot of information about the realationship betweem them. There seems to be strong multicollinearity in the dataset."
   ]
  },
  {
   "cell_type": "code",
   "execution_count": 57,
   "id": "53c9f288",
   "metadata": {},
   "outputs": [],
   "source": [
    "# Droping unwanted columns\n",
    "df.drop(['CIF', 'CUS_DOB','CUS_Month_Income','CUS_Customer_Since', 'YEARS_WITH_US','CUS_Target'], axis=1, inplace = True)"
   ]
  },
  {
   "cell_type": "code",
   "execution_count": 58,
   "id": "1d284336",
   "metadata": {},
   "outputs": [
    {
     "data": {
      "text/html": [
       "<div>\n",
       "<style scoped>\n",
       "    .dataframe tbody tr th:only-of-type {\n",
       "        vertical-align: middle;\n",
       "    }\n",
       "\n",
       "    .dataframe tbody tr th {\n",
       "        vertical-align: top;\n",
       "    }\n",
       "\n",
       "    .dataframe thead th {\n",
       "        text-align: right;\n",
       "    }\n",
       "</style>\n",
       "<table border=\"1\" class=\"dataframe\">\n",
       "  <thead>\n",
       "    <tr style=\"text-align: right;\">\n",
       "      <th></th>\n",
       "      <th># total credit transactions for S2</th>\n",
       "      <th># total credit transactions for S3</th>\n",
       "      <th>total credit amount for S1</th>\n",
       "      <th>total credit amount for S2</th>\n",
       "      <th>total credit amount for S3</th>\n",
       "      <th>total debit amount</th>\n",
       "      <th>total debit transactions</th>\n",
       "      <th>total credit amount</th>\n",
       "      <th>total credit transactions</th>\n",
       "      <th>total transactions</th>\n",
       "      <th>TAR_Desc</th>\n",
       "      <th>Status</th>\n",
       "    </tr>\n",
       "  </thead>\n",
       "  <tbody>\n",
       "    <tr>\n",
       "      <th>0</th>\n",
       "      <td>24</td>\n",
       "      <td>31</td>\n",
       "      <td>1516981.10</td>\n",
       "      <td>1764079.61</td>\n",
       "      <td>2378592.62</td>\n",
       "      <td>4758311.63</td>\n",
       "      <td>887</td>\n",
       "      <td>5659653.33</td>\n",
       "      <td>65</td>\n",
       "      <td>952</td>\n",
       "      <td>EXECUTIVE</td>\n",
       "      <td>ACTIVE</td>\n",
       "    </tr>\n",
       "    <tr>\n",
       "      <th>1</th>\n",
       "      <td>4</td>\n",
       "      <td>4</td>\n",
       "      <td>10000.00</td>\n",
       "      <td>19500.00</td>\n",
       "      <td>57500.00</td>\n",
       "      <td>139363.22</td>\n",
       "      <td>97</td>\n",
       "      <td>87000.00</td>\n",
       "      <td>10</td>\n",
       "      <td>107</td>\n",
       "      <td>LOW</td>\n",
       "      <td>ACTIVE</td>\n",
       "    </tr>\n",
       "    <tr>\n",
       "      <th>2</th>\n",
       "      <td>8</td>\n",
       "      <td>5</td>\n",
       "      <td>709625.00</td>\n",
       "      <td>240311.84</td>\n",
       "      <td>70946.86</td>\n",
       "      <td>37375.46</td>\n",
       "      <td>53</td>\n",
       "      <td>1020883.70</td>\n",
       "      <td>27</td>\n",
       "      <td>80</td>\n",
       "      <td>MIDLE</td>\n",
       "      <td>ACTIVE</td>\n",
       "    </tr>\n",
       "    <tr>\n",
       "      <th>3</th>\n",
       "      <td>4</td>\n",
       "      <td>3</td>\n",
       "      <td>30103.05</td>\n",
       "      <td>28089.99</td>\n",
       "      <td>18753.92</td>\n",
       "      <td>4000.00</td>\n",
       "      <td>1</td>\n",
       "      <td>76946.96</td>\n",
       "      <td>12</td>\n",
       "      <td>13</td>\n",
       "      <td>LOW</td>\n",
       "      <td>ACTIVE</td>\n",
       "    </tr>\n",
       "    <tr>\n",
       "      <th>4</th>\n",
       "      <td>7</td>\n",
       "      <td>6</td>\n",
       "      <td>195600.00</td>\n",
       "      <td>176000.00</td>\n",
       "      <td>70500.00</td>\n",
       "      <td>338470.29</td>\n",
       "      <td>60</td>\n",
       "      <td>442100.00</td>\n",
       "      <td>21</td>\n",
       "      <td>81</td>\n",
       "      <td>LOW</td>\n",
       "      <td>ACTIVE</td>\n",
       "    </tr>\n",
       "    <tr>\n",
       "      <th>5</th>\n",
       "      <td>25</td>\n",
       "      <td>51</td>\n",
       "      <td>758585.68</td>\n",
       "      <td>539970.27</td>\n",
       "      <td>739082.52</td>\n",
       "      <td>1883962.89</td>\n",
       "      <td>490</td>\n",
       "      <td>2037638.47</td>\n",
       "      <td>95</td>\n",
       "      <td>585</td>\n",
       "      <td>MIDLE</td>\n",
       "      <td>ACTIVE</td>\n",
       "    </tr>\n",
       "    <tr>\n",
       "      <th>6</th>\n",
       "      <td>0</td>\n",
       "      <td>0</td>\n",
       "      <td>0.00</td>\n",
       "      <td>0.00</td>\n",
       "      <td>0.00</td>\n",
       "      <td>8693.60</td>\n",
       "      <td>3</td>\n",
       "      <td>0.00</td>\n",
       "      <td>0</td>\n",
       "      <td>3</td>\n",
       "      <td>LOW</td>\n",
       "      <td>CHURN</td>\n",
       "    </tr>\n",
       "    <tr>\n",
       "      <th>7</th>\n",
       "      <td>11</td>\n",
       "      <td>14</td>\n",
       "      <td>431653.01</td>\n",
       "      <td>492067.05</td>\n",
       "      <td>630958.47</td>\n",
       "      <td>1477803.14</td>\n",
       "      <td>422</td>\n",
       "      <td>1554678.53</td>\n",
       "      <td>32</td>\n",
       "      <td>454</td>\n",
       "      <td>LOW</td>\n",
       "      <td>ACTIVE</td>\n",
       "    </tr>\n",
       "    <tr>\n",
       "      <th>8</th>\n",
       "      <td>21</td>\n",
       "      <td>19</td>\n",
       "      <td>820952.00</td>\n",
       "      <td>1296021.03</td>\n",
       "      <td>1043510.33</td>\n",
       "      <td>3240369.08</td>\n",
       "      <td>877</td>\n",
       "      <td>3160483.36</td>\n",
       "      <td>49</td>\n",
       "      <td>926</td>\n",
       "      <td>EXECUTIVE</td>\n",
       "      <td>ACTIVE</td>\n",
       "    </tr>\n",
       "    <tr>\n",
       "      <th>9</th>\n",
       "      <td>5</td>\n",
       "      <td>7</td>\n",
       "      <td>0.00</td>\n",
       "      <td>130000.00</td>\n",
       "      <td>398046.93</td>\n",
       "      <td>535684.68</td>\n",
       "      <td>130</td>\n",
       "      <td>528046.93</td>\n",
       "      <td>12</td>\n",
       "      <td>142</td>\n",
       "      <td>LOW</td>\n",
       "      <td>ACTIVE</td>\n",
       "    </tr>\n",
       "    <tr>\n",
       "      <th>10</th>\n",
       "      <td>7</td>\n",
       "      <td>18</td>\n",
       "      <td>83621.28</td>\n",
       "      <td>97558.16</td>\n",
       "      <td>89690.88</td>\n",
       "      <td>272200.00</td>\n",
       "      <td>127</td>\n",
       "      <td>270870.32</td>\n",
       "      <td>31</td>\n",
       "      <td>158</td>\n",
       "      <td>LOW</td>\n",
       "      <td>ACTIVE</td>\n",
       "    </tr>\n",
       "    <tr>\n",
       "      <th>11</th>\n",
       "      <td>0</td>\n",
       "      <td>0</td>\n",
       "      <td>0.00</td>\n",
       "      <td>0.00</td>\n",
       "      <td>0.00</td>\n",
       "      <td>6443.30</td>\n",
       "      <td>3</td>\n",
       "      <td>0.00</td>\n",
       "      <td>0</td>\n",
       "      <td>3</td>\n",
       "      <td>LOW</td>\n",
       "      <td>CHURN</td>\n",
       "    </tr>\n",
       "    <tr>\n",
       "      <th>12</th>\n",
       "      <td>0</td>\n",
       "      <td>3</td>\n",
       "      <td>42633.40</td>\n",
       "      <td>0.00</td>\n",
       "      <td>12700.00</td>\n",
       "      <td>150020.72</td>\n",
       "      <td>64</td>\n",
       "      <td>55333.40</td>\n",
       "      <td>6</td>\n",
       "      <td>70</td>\n",
       "      <td>MIDLE</td>\n",
       "      <td>ACTIVE</td>\n",
       "    </tr>\n",
       "    <tr>\n",
       "      <th>13</th>\n",
       "      <td>0</td>\n",
       "      <td>0</td>\n",
       "      <td>0.00</td>\n",
       "      <td>0.00</td>\n",
       "      <td>0.00</td>\n",
       "      <td>155663.32</td>\n",
       "      <td>30</td>\n",
       "      <td>0.00</td>\n",
       "      <td>0</td>\n",
       "      <td>30</td>\n",
       "      <td>LOW</td>\n",
       "      <td>ACTIVE</td>\n",
       "    </tr>\n",
       "    <tr>\n",
       "      <th>14</th>\n",
       "      <td>12</td>\n",
       "      <td>16</td>\n",
       "      <td>202105.00</td>\n",
       "      <td>170423.00</td>\n",
       "      <td>498700.00</td>\n",
       "      <td>661380.78</td>\n",
       "      <td>198</td>\n",
       "      <td>871228.00</td>\n",
       "      <td>40</td>\n",
       "      <td>238</td>\n",
       "      <td>LOW</td>\n",
       "      <td>ACTIVE</td>\n",
       "    </tr>\n",
       "    <tr>\n",
       "      <th>15</th>\n",
       "      <td>15</td>\n",
       "      <td>9</td>\n",
       "      <td>322000.00</td>\n",
       "      <td>579000.00</td>\n",
       "      <td>135500.00</td>\n",
       "      <td>1348090.86</td>\n",
       "      <td>406</td>\n",
       "      <td>1036500.00</td>\n",
       "      <td>39</td>\n",
       "      <td>445</td>\n",
       "      <td>MIDLE</td>\n",
       "      <td>ACTIVE</td>\n",
       "    </tr>\n",
       "    <tr>\n",
       "      <th>16</th>\n",
       "      <td>3</td>\n",
       "      <td>4</td>\n",
       "      <td>145620.49</td>\n",
       "      <td>13400.00</td>\n",
       "      <td>161131.46</td>\n",
       "      <td>317885.50</td>\n",
       "      <td>53</td>\n",
       "      <td>320151.95</td>\n",
       "      <td>8</td>\n",
       "      <td>61</td>\n",
       "      <td>MIDLE</td>\n",
       "      <td>ACTIVE</td>\n",
       "    </tr>\n",
       "    <tr>\n",
       "      <th>17</th>\n",
       "      <td>23</td>\n",
       "      <td>35</td>\n",
       "      <td>45140.00</td>\n",
       "      <td>265415.00</td>\n",
       "      <td>683220.97</td>\n",
       "      <td>892966.21</td>\n",
       "      <td>563</td>\n",
       "      <td>993775.97</td>\n",
       "      <td>64</td>\n",
       "      <td>627</td>\n",
       "      <td>MIDLE</td>\n",
       "      <td>ACTIVE</td>\n",
       "    </tr>\n",
       "    <tr>\n",
       "      <th>18</th>\n",
       "      <td>19</td>\n",
       "      <td>14</td>\n",
       "      <td>245976.40</td>\n",
       "      <td>622766.31</td>\n",
       "      <td>260565.10</td>\n",
       "      <td>1295974.07</td>\n",
       "      <td>218</td>\n",
       "      <td>1129307.81</td>\n",
       "      <td>48</td>\n",
       "      <td>266</td>\n",
       "      <td>MIDLE</td>\n",
       "      <td>ACTIVE</td>\n",
       "    </tr>\n",
       "    <tr>\n",
       "      <th>19</th>\n",
       "      <td>10</td>\n",
       "      <td>1</td>\n",
       "      <td>18000.00</td>\n",
       "      <td>103000.00</td>\n",
       "      <td>3000.00</td>\n",
       "      <td>148606.03</td>\n",
       "      <td>55</td>\n",
       "      <td>124000.00</td>\n",
       "      <td>17</td>\n",
       "      <td>72</td>\n",
       "      <td>LOW</td>\n",
       "      <td>ACTIVE</td>\n",
       "    </tr>\n",
       "  </tbody>\n",
       "</table>\n",
       "</div>"
      ],
      "text/plain": [
       "    # total credit transactions for S2  # total credit transactions for S3  \\\n",
       "0                                   24                                  31   \n",
       "1                                    4                                   4   \n",
       "2                                    8                                   5   \n",
       "3                                    4                                   3   \n",
       "4                                    7                                   6   \n",
       "5                                   25                                  51   \n",
       "6                                    0                                   0   \n",
       "7                                   11                                  14   \n",
       "8                                   21                                  19   \n",
       "9                                    5                                   7   \n",
       "10                                   7                                  18   \n",
       "11                                   0                                   0   \n",
       "12                                   0                                   3   \n",
       "13                                   0                                   0   \n",
       "14                                  12                                  16   \n",
       "15                                  15                                   9   \n",
       "16                                   3                                   4   \n",
       "17                                  23                                  35   \n",
       "18                                  19                                  14   \n",
       "19                                  10                                   1   \n",
       "\n",
       "    total credit amount for S1  total credit amount for S2  \\\n",
       "0                   1516981.10                  1764079.61   \n",
       "1                     10000.00                    19500.00   \n",
       "2                    709625.00                   240311.84   \n",
       "3                     30103.05                    28089.99   \n",
       "4                    195600.00                   176000.00   \n",
       "5                    758585.68                   539970.27   \n",
       "6                         0.00                        0.00   \n",
       "7                    431653.01                   492067.05   \n",
       "8                    820952.00                  1296021.03   \n",
       "9                         0.00                   130000.00   \n",
       "10                    83621.28                    97558.16   \n",
       "11                        0.00                        0.00   \n",
       "12                    42633.40                        0.00   \n",
       "13                        0.00                        0.00   \n",
       "14                   202105.00                   170423.00   \n",
       "15                   322000.00                   579000.00   \n",
       "16                   145620.49                    13400.00   \n",
       "17                    45140.00                   265415.00   \n",
       "18                   245976.40                   622766.31   \n",
       "19                    18000.00                   103000.00   \n",
       "\n",
       "    total credit amount for S3  total debit amount  total debit transactions  \\\n",
       "0                   2378592.62          4758311.63                       887   \n",
       "1                     57500.00           139363.22                        97   \n",
       "2                     70946.86            37375.46                        53   \n",
       "3                     18753.92             4000.00                         1   \n",
       "4                     70500.00           338470.29                        60   \n",
       "5                    739082.52          1883962.89                       490   \n",
       "6                         0.00             8693.60                         3   \n",
       "7                    630958.47          1477803.14                       422   \n",
       "8                   1043510.33          3240369.08                       877   \n",
       "9                    398046.93           535684.68                       130   \n",
       "10                    89690.88           272200.00                       127   \n",
       "11                        0.00             6443.30                         3   \n",
       "12                    12700.00           150020.72                        64   \n",
       "13                        0.00           155663.32                        30   \n",
       "14                   498700.00           661380.78                       198   \n",
       "15                   135500.00          1348090.86                       406   \n",
       "16                   161131.46           317885.50                        53   \n",
       "17                   683220.97           892966.21                       563   \n",
       "18                   260565.10          1295974.07                       218   \n",
       "19                     3000.00           148606.03                        55   \n",
       "\n",
       "    total credit amount  total credit transactions  total transactions  \\\n",
       "0            5659653.33                         65                 952   \n",
       "1              87000.00                         10                 107   \n",
       "2            1020883.70                         27                  80   \n",
       "3              76946.96                         12                  13   \n",
       "4             442100.00                         21                  81   \n",
       "5            2037638.47                         95                 585   \n",
       "6                  0.00                          0                   3   \n",
       "7            1554678.53                         32                 454   \n",
       "8            3160483.36                         49                 926   \n",
       "9             528046.93                         12                 142   \n",
       "10            270870.32                         31                 158   \n",
       "11                 0.00                          0                   3   \n",
       "12             55333.40                          6                  70   \n",
       "13                 0.00                          0                  30   \n",
       "14            871228.00                         40                 238   \n",
       "15           1036500.00                         39                 445   \n",
       "16            320151.95                          8                  61   \n",
       "17            993775.97                         64                 627   \n",
       "18           1129307.81                         48                 266   \n",
       "19            124000.00                         17                  72   \n",
       "\n",
       "     TAR_Desc  Status  \n",
       "0   EXECUTIVE  ACTIVE  \n",
       "1         LOW  ACTIVE  \n",
       "2       MIDLE  ACTIVE  \n",
       "3         LOW  ACTIVE  \n",
       "4         LOW  ACTIVE  \n",
       "5       MIDLE  ACTIVE  \n",
       "6         LOW   CHURN  \n",
       "7         LOW  ACTIVE  \n",
       "8   EXECUTIVE  ACTIVE  \n",
       "9         LOW  ACTIVE  \n",
       "10        LOW  ACTIVE  \n",
       "11        LOW   CHURN  \n",
       "12      MIDLE  ACTIVE  \n",
       "13        LOW  ACTIVE  \n",
       "14        LOW  ACTIVE  \n",
       "15      MIDLE  ACTIVE  \n",
       "16      MIDLE  ACTIVE  \n",
       "17      MIDLE  ACTIVE  \n",
       "18      MIDLE  ACTIVE  \n",
       "19        LOW  ACTIVE  "
      ]
     },
     "execution_count": 58,
     "metadata": {},
     "output_type": "execute_result"
    }
   ],
   "source": [
    "df.iloc[0:20, 10:23]"
   ]
  },
  {
   "cell_type": "code",
   "execution_count": 59,
   "id": "93a7b5c6",
   "metadata": {},
   "outputs": [
    {
     "data": {
      "text/plain": [
       "Index(['AGE', 'CUS_Gender', 'CUS_Marital_Status',\n",
       "       '# total debit transactions for S1',\n",
       "       '# total debit transactions for S2',\n",
       "       '# total debit transactions for S3', 'total debit amount for S1',\n",
       "       'total debit amount for S2', 'total debit amount for S3',\n",
       "       '# total credit transactions for S1',\n",
       "       '# total credit transactions for S2',\n",
       "       '# total credit transactions for S3', 'total credit amount for S1',\n",
       "       'total credit amount for S2', 'total credit amount for S3',\n",
       "       'total debit amount', 'total debit transactions', 'total credit amount',\n",
       "       'total credit transactions', 'total transactions', 'TAR_Desc',\n",
       "       'Status'],\n",
       "      dtype='object')"
      ]
     },
     "execution_count": 59,
     "metadata": {},
     "output_type": "execute_result"
    }
   ],
   "source": [
    "# Analyzing categorical columns\n",
    "# checking different charater in categorical features\n",
    "df.columns"
   ]
  },
  {
   "cell_type": "code",
   "execution_count": 60,
   "id": "44862c38",
   "metadata": {},
   "outputs": [
    {
     "data": {
      "text/plain": [
       "array(['MALE', 'FEMALE', nan], dtype=object)"
      ]
     },
     "execution_count": 60,
     "metadata": {},
     "output_type": "execute_result"
    }
   ],
   "source": [
    "# analyzing Cus_gender\n",
    "df['CUS_Gender'].unique()"
   ]
  },
  {
   "cell_type": "code",
   "execution_count": 61,
   "id": "5f630045",
   "metadata": {},
   "outputs": [
    {
     "data": {
      "text/plain": [
       "MALE      741\n",
       "FEMALE    506\n",
       "Name: CUS_Gender, dtype: int64"
      ]
     },
     "execution_count": 61,
     "metadata": {},
     "output_type": "execute_result"
    }
   ],
   "source": [
    "df['CUS_Gender'].value_counts()"
   ]
  },
  {
   "cell_type": "code",
   "execution_count": 62,
   "id": "2c045589",
   "metadata": {},
   "outputs": [
    {
     "data": {
      "text/plain": [
       "array(['MARRIED', 'SINGLE', 'WIDOWED', 'DIVORCE', 'OTHER', 'PARTNER'],\n",
       "      dtype=object)"
      ]
     },
     "execution_count": 62,
     "metadata": {},
     "output_type": "execute_result"
    }
   ],
   "source": [
    "# Analyzing marital Status\n",
    "df['CUS_Marital_Status'].unique()"
   ]
  },
  {
   "cell_type": "code",
   "execution_count": 63,
   "id": "5cfa58cc",
   "metadata": {},
   "outputs": [
    {
     "data": {
      "text/plain": [
       "SINGLE     879\n",
       "MARRIED    328\n",
       "DIVORCE     30\n",
       "WIDOWED     10\n",
       "OTHER        1\n",
       "PARTNER      1\n",
       "Name: CUS_Marital_Status, dtype: int64"
      ]
     },
     "execution_count": 63,
     "metadata": {},
     "output_type": "execute_result"
    }
   ],
   "source": [
    "df['CUS_Marital_Status'].value_counts()"
   ]
  },
  {
   "cell_type": "code",
   "execution_count": 64,
   "id": "bd820cd8",
   "metadata": {},
   "outputs": [
    {
     "data": {
      "text/plain": [
       "array(['EXECUTIVE', 'LOW', 'MIDLE', 'PLATINUM'], dtype=object)"
      ]
     },
     "execution_count": 64,
     "metadata": {},
     "output_type": "execute_result"
    }
   ],
   "source": [
    "#analyzin tar desc\n",
    "df['TAR_Desc'].unique()"
   ]
  },
  {
   "cell_type": "code",
   "execution_count": 65,
   "id": "ce14d34c",
   "metadata": {},
   "outputs": [
    {
     "data": {
      "text/plain": [
       "LOW          753\n",
       "MIDLE        406\n",
       "EXECUTIVE     59\n",
       "PLATINUM      31\n",
       "Name: TAR_Desc, dtype: int64"
      ]
     },
     "execution_count": 65,
     "metadata": {},
     "output_type": "execute_result"
    }
   ],
   "source": [
    "df['TAR_Desc'].value_counts()"
   ]
  },
  {
   "cell_type": "code",
   "execution_count": 66,
   "id": "0a37e46c",
   "metadata": {},
   "outputs": [
    {
     "data": {
      "text/plain": [
       "ACTIVE    1022\n",
       "CHURN      227\n",
       "Name: Status, dtype: int64"
      ]
     },
     "execution_count": 66,
     "metadata": {},
     "output_type": "execute_result"
    }
   ],
   "source": [
    "df['Status'].value_counts()"
   ]
  },
  {
   "cell_type": "code",
   "execution_count": 69,
   "id": "8bc15983",
   "metadata": {},
   "outputs": [
    {
     "data": {
      "image/png": "[encoded data removed]",
      "text/plain": [
       "<Figure size 1080x504 with 3 Axes>"
      ]
     },
     "metadata": {
      "needs_background": "light"
     },
     "output_type": "display_data"
    }
   ],
   "source": [
    "# analyzing categorical count w.r.t Status\n",
    "list = ['CUS_Gender','CUS_Marital_Status','TAR_Desc']\n",
    "plt.figure(figsize=(15,7))\n",
    "for i,x in enumerate(list):\n",
    "    plt.subplot(2,2,i+1)\n",
    "    sns.set_palette(\"turbo\")\n",
    "    sns.countplot(data=df, x=df[x], hue='Status')"
   ]
  },
  {
   "cell_type": "code",
   "execution_count": 70,
   "id": "f0445870",
   "metadata": {},
   "outputs": [
    {
     "data": {
      "image/png": "[encoded data removed]",
      "text/plain": [
       "<Figure size 432x288 with 1 Axes>"
      ]
     },
     "metadata": {},
     "output_type": "display_data"
    }
   ],
   "source": [
    "# Status distrbution\n",
    "labels = ['Active', 'Churn']\n",
    "values =[1022, 227]\n",
    "\n",
    "plt.pie(values, labels= labels, radius= 1.5, autopct= '%2.1f%%', pctdistance = 0.85,\n",
    "        shadow = True, labeldistance= 1.1, counterclock= True, wedgeprops={'width': 0.5})\n",
    "plt.show()"
   ]
  },
  {
   "cell_type": "markdown",
   "id": "17d3b95d",
   "metadata": {},
   "source": [
    "# Checking for Normal Distribution of important columns\n",
    "# Checking for outliers and guessing the reason behind outliers and\n",
    "# Checking whether they are worthy to have it in our dataset or not required."
   ]
  },
  {
   "cell_type": "code",
   "execution_count": 71,
   "id": "c1395c60",
   "metadata": {},
   "outputs": [
    {
     "name": "stdout",
     "output_type": "stream",
     "text": [
      "                                     \u001b[1mFeatures Distribution                                      \n"
     ]
    },
    {
     "data": {
      "image/png": "[encoded data removed]",
      "text/plain": [
       "<Figure size 1080x56340 with 18 Axes>"
      ]
     },
     "metadata": {
      "needs_background": "light"
     },
     "output_type": "display_data"
    },
    {
     "data": {
      "image/png": "[encoded data removed]",
      "text/plain": [
       "<Figure size 1080x56340 with 18 Axes>"
      ]
     },
     "metadata": {
      "needs_background": "light"
     },
     "output_type": "display_data"
    }
   ],
   "source": [
    "import math\n",
    "print('\\033[1mFeatures Distribution'.center(100))\n",
    "\n",
    "nf = [i for i in df if i not in ['CUS_Gender', 'CUS_Marital_Status','TAR_Desc', 'Status']]\n",
    "\n",
    "n=4\n",
    "plt.figure(figsize=[15,2.5*math.ceil(len(df)/n)])\n",
    "for c in range(len(nf)):\n",
    "    plt.subplot(math.ceil(len(df)/n),n,c+1)\n",
    "    sns.histplot(df[nf[c]])\n",
    "plt.tight_layout()\n",
    "plt.show()\n",
    "\n",
    "plt.figure(figsize=[15,2.5*math.ceil(len(df)/n)])\n",
    "for c in range(len(nf)):\n",
    "    plt.subplot(math.ceil(len(df)/n),n,c+1)\n",
    "    df.boxplot(nf[c])\n",
    "plt.tight_layout()\n",
    "plt.show()"
   ]
  },
  {
   "cell_type": "markdown",
   "id": "464a7318",
   "metadata": {},
   "source": [
    "### Data is not normally distrbuted\n",
    "### It seems to be like data contains high amount of Outlier\n",
    "### It worthy to be have in dataset, because if there is high transaction there is also high debit amount, And most of the outliers are from Active customers."
   ]
  },
  {
   "cell_type": "markdown",
   "id": "c441a36d",
   "metadata": {},
   "source": [
    "# Data Pre-Processing"
   ]
  },
  {
   "cell_type": "code",
   "execution_count": 72,
   "id": "71b56065",
   "metadata": {},
   "outputs": [],
   "source": [
    "# Handling categorical columns\n",
    "# So there is 2 nan value in Cus_gender, We can delete that nan value\n",
    "df = df.dropna()"
   ]
  },
  {
   "cell_type": "code",
   "execution_count": 73,
   "id": "42c6af30",
   "metadata": {},
   "outputs": [
    {
     "data": {
      "text/plain": [
       "AGE                                   0\n",
       "CUS_Gender                            0\n",
       "CUS_Marital_Status                    0\n",
       "# total debit transactions for S1     0\n",
       "# total debit transactions for S2     0\n",
       "# total debit transactions for S3     0\n",
       "total debit amount for S1             0\n",
       "total debit amount for S2             0\n",
       "total debit amount for S3             0\n",
       "# total credit transactions for S1    0\n",
       "# total credit transactions for S2    0\n",
       "# total credit transactions for S3    0\n",
       "total credit amount for S1            0\n",
       "total credit amount for S2            0\n",
       "total credit amount for S3            0\n",
       "total debit amount                    0\n",
       "total debit transactions              0\n",
       "total credit amount                   0\n",
       "total credit transactions             0\n",
       "total transactions                    0\n",
       "TAR_Desc                              0\n",
       "Status                                0\n",
       "dtype: int64"
      ]
     },
     "execution_count": 73,
     "metadata": {},
     "output_type": "execute_result"
    }
   ],
   "source": [
    "df.isnull().sum()"
   ]
  },
  {
   "cell_type": "code",
   "execution_count": 74,
   "id": "7eae2fc2",
   "metadata": {},
   "outputs": [],
   "source": [
    "#converting gender in binary format \n",
    "from sklearn.preprocessing import LabelEncoder\n",
    "label_encoder = LabelEncoder()\n",
    "encoded = label_encoder.fit(df['CUS_Gender'])\n",
    "df['CUS_Gender'] = encoded.fit_transform(df['CUS_Gender'])"
   ]
  },
  {
   "cell_type": "code",
   "execution_count": 75,
   "id": "be9a78be",
   "metadata": {},
   "outputs": [
    {
     "data": {
      "text/plain": [
       "1    741\n",
       "0    506\n",
       "Name: CUS_Gender, dtype: int64"
      ]
     },
     "execution_count": 75,
     "metadata": {},
     "output_type": "execute_result"
    }
   ],
   "source": [
    "df['CUS_Gender'].value_counts()"
   ]
  },
  {
   "cell_type": "code",
   "execution_count": 76,
   "id": "3bdc83f9",
   "metadata": {},
   "outputs": [],
   "source": [
    "# converting CUS_Marital_Status in binary format \n",
    "from sklearn.preprocessing import LabelEncoder\n",
    "label_encoder = LabelEncoder()\n",
    "encoded = label_encoder.fit(df['CUS_Marital_Status'])\n",
    "df['CUS_Marital_Status'] = encoded.fit_transform(df['CUS_Marital_Status'])"
   ]
  },
  {
   "cell_type": "code",
   "execution_count": 77,
   "id": "a53debdd",
   "metadata": {},
   "outputs": [
    {
     "data": {
      "text/plain": [
       "4    878\n",
       "1    327\n",
       "0     30\n",
       "5     10\n",
       "2      1\n",
       "3      1\n",
       "Name: CUS_Marital_Status, dtype: int64"
      ]
     },
     "execution_count": 77,
     "metadata": {},
     "output_type": "execute_result"
    }
   ],
   "source": [
    "df['CUS_Marital_Status'].value_counts()"
   ]
  },
  {
   "cell_type": "code",
   "execution_count": 78,
   "id": "3065fde7",
   "metadata": {},
   "outputs": [],
   "source": [
    "# converted widowed, parter, other into single\n",
    "# class with less than 1% converted into higher class count\n",
    "df['CUS_Marital_Status'] = df['CUS_Marital_Status'].replace([2,3,5],[4,4,4])"
   ]
  },
  {
   "cell_type": "code",
   "execution_count": 79,
   "id": "f4fbc23c",
   "metadata": {},
   "outputs": [
    {
     "data": {
      "text/plain": [
       "4    890\n",
       "1    327\n",
       "0     30\n",
       "Name: CUS_Marital_Status, dtype: int64"
      ]
     },
     "execution_count": 79,
     "metadata": {},
     "output_type": "execute_result"
    }
   ],
   "source": [
    "df['CUS_Marital_Status'].value_counts()"
   ]
  },
  {
   "cell_type": "code",
   "execution_count": 80,
   "id": "e60ab770",
   "metadata": {},
   "outputs": [],
   "source": [
    "# converting TAR_Desc in to binary format\n",
    "from sklearn.preprocessing import LabelEncoder\n",
    "label_encoder = LabelEncoder()\n",
    "encoded = label_encoder.fit(df['TAR_Desc'])\n",
    "df['TAR_Desc'] = encoded.fit_transform(df['TAR_Desc'])"
   ]
  },
  {
   "cell_type": "code",
   "execution_count": 81,
   "id": "a50698ff",
   "metadata": {},
   "outputs": [
    {
     "data": {
      "text/plain": [
       "1    751\n",
       "2    406\n",
       "0     59\n",
       "3     31\n",
       "Name: TAR_Desc, dtype: int64"
      ]
     },
     "execution_count": 81,
     "metadata": {},
     "output_type": "execute_result"
    }
   ],
   "source": [
    "df['TAR_Desc'].value_counts()"
   ]
  },
  {
   "cell_type": "code",
   "execution_count": 82,
   "id": "726d9935",
   "metadata": {},
   "outputs": [],
   "source": [
    "# converting Status into binary format\n",
    "from sklearn.preprocessing import LabelEncoder\n",
    "label_encoder = LabelEncoder()\n",
    "encoded = label_encoder.fit(df['Status'])\n",
    "df['Status'] = encoded.fit_transform(df['Status'])"
   ]
  },
  {
   "cell_type": "code",
   "execution_count": 83,
   "id": "08582a65",
   "metadata": {},
   "outputs": [
    {
     "data": {
      "text/plain": [
       "0    1022\n",
       "1     225\n",
       "Name: Status, dtype: int64"
      ]
     },
     "execution_count": 83,
     "metadata": {},
     "output_type": "execute_result"
    }
   ],
   "source": [
    "df['Status'].value_counts()"
   ]
  },
  {
   "cell_type": "code",
   "execution_count": 84,
   "id": "7b71758b",
   "metadata": {},
   "outputs": [
    {
     "data": {
      "text/html": [
       "<div>\n",
       "<style scoped>\n",
       "    .dataframe tbody tr th:only-of-type {\n",
       "        vertical-align: middle;\n",
       "    }\n",
       "\n",
       "    .dataframe tbody tr th {\n",
       "        vertical-align: top;\n",
       "    }\n",
       "\n",
       "    .dataframe thead th {\n",
       "        text-align: right;\n",
       "    }\n",
       "</style>\n",
       "<table border=\"1\" class=\"dataframe\">\n",
       "  <thead>\n",
       "    <tr style=\"text-align: right;\">\n",
       "      <th></th>\n",
       "      <th>AGE</th>\n",
       "      <th>CUS_Gender</th>\n",
       "      <th>CUS_Marital_Status</th>\n",
       "      <th># total debit transactions for S1</th>\n",
       "      <th># total debit transactions for S2</th>\n",
       "      <th># total debit transactions for S3</th>\n",
       "      <th>total debit amount for S1</th>\n",
       "      <th>total debit amount for S2</th>\n",
       "      <th>total debit amount for S3</th>\n",
       "      <th># total credit transactions for S1</th>\n",
       "      <th>...</th>\n",
       "      <th>total credit amount for S1</th>\n",
       "      <th>total credit amount for S2</th>\n",
       "      <th>total credit amount for S3</th>\n",
       "      <th>total debit amount</th>\n",
       "      <th>total debit transactions</th>\n",
       "      <th>total credit amount</th>\n",
       "      <th>total credit transactions</th>\n",
       "      <th>total transactions</th>\n",
       "      <th>TAR_Desc</th>\n",
       "      <th>Status</th>\n",
       "    </tr>\n",
       "  </thead>\n",
       "  <tbody>\n",
       "    <tr>\n",
       "      <th>0</th>\n",
       "      <td>49</td>\n",
       "      <td>1</td>\n",
       "      <td>1</td>\n",
       "      <td>277</td>\n",
       "      <td>265</td>\n",
       "      <td>345</td>\n",
       "      <td>1459126.64</td>\n",
       "      <td>1230543.08</td>\n",
       "      <td>2068641.91</td>\n",
       "      <td>10</td>\n",
       "      <td>...</td>\n",
       "      <td>1516981.10</td>\n",
       "      <td>1764079.61</td>\n",
       "      <td>2378592.62</td>\n",
       "      <td>4758311.63</td>\n",
       "      <td>887</td>\n",
       "      <td>5659653.33</td>\n",
       "      <td>65</td>\n",
       "      <td>952</td>\n",
       "      <td>0</td>\n",
       "      <td>0</td>\n",
       "    </tr>\n",
       "    <tr>\n",
       "      <th>1</th>\n",
       "      <td>46</td>\n",
       "      <td>0</td>\n",
       "      <td>4</td>\n",
       "      <td>37</td>\n",
       "      <td>15</td>\n",
       "      <td>45</td>\n",
       "      <td>35372.55</td>\n",
       "      <td>20134.00</td>\n",
       "      <td>83856.67</td>\n",
       "      <td>2</td>\n",
       "      <td>...</td>\n",
       "      <td>10000.00</td>\n",
       "      <td>19500.00</td>\n",
       "      <td>57500.00</td>\n",
       "      <td>139363.22</td>\n",
       "      <td>97</td>\n",
       "      <td>87000.00</td>\n",
       "      <td>10</td>\n",
       "      <td>107</td>\n",
       "      <td>1</td>\n",
       "      <td>0</td>\n",
       "    </tr>\n",
       "    <tr>\n",
       "      <th>2</th>\n",
       "      <td>53</td>\n",
       "      <td>0</td>\n",
       "      <td>4</td>\n",
       "      <td>31</td>\n",
       "      <td>14</td>\n",
       "      <td>8</td>\n",
       "      <td>28248.85</td>\n",
       "      <td>4777.66</td>\n",
       "      <td>4348.95</td>\n",
       "      <td>14</td>\n",
       "      <td>...</td>\n",
       "      <td>709625.00</td>\n",
       "      <td>240311.84</td>\n",
       "      <td>70946.86</td>\n",
       "      <td>37375.46</td>\n",
       "      <td>53</td>\n",
       "      <td>1020883.70</td>\n",
       "      <td>27</td>\n",
       "      <td>80</td>\n",
       "      <td>2</td>\n",
       "      <td>0</td>\n",
       "    </tr>\n",
       "    <tr>\n",
       "      <th>3</th>\n",
       "      <td>15</td>\n",
       "      <td>0</td>\n",
       "      <td>4</td>\n",
       "      <td>0</td>\n",
       "      <td>1</td>\n",
       "      <td>0</td>\n",
       "      <td>0.00</td>\n",
       "      <td>4000.00</td>\n",
       "      <td>0.00</td>\n",
       "      <td>5</td>\n",
       "      <td>...</td>\n",
       "      <td>30103.05</td>\n",
       "      <td>28089.99</td>\n",
       "      <td>18753.92</td>\n",
       "      <td>4000.00</td>\n",
       "      <td>1</td>\n",
       "      <td>76946.96</td>\n",
       "      <td>12</td>\n",
       "      <td>13</td>\n",
       "      <td>1</td>\n",
       "      <td>0</td>\n",
       "    </tr>\n",
       "    <tr>\n",
       "      <th>4</th>\n",
       "      <td>48</td>\n",
       "      <td>0</td>\n",
       "      <td>4</td>\n",
       "      <td>15</td>\n",
       "      <td>33</td>\n",
       "      <td>12</td>\n",
       "      <td>69083.38</td>\n",
       "      <td>223007.51</td>\n",
       "      <td>46379.40</td>\n",
       "      <td>8</td>\n",
       "      <td>...</td>\n",
       "      <td>195600.00</td>\n",
       "      <td>176000.00</td>\n",
       "      <td>70500.00</td>\n",
       "      <td>338470.29</td>\n",
       "      <td>60</td>\n",
       "      <td>442100.00</td>\n",
       "      <td>21</td>\n",
       "      <td>81</td>\n",
       "      <td>1</td>\n",
       "      <td>0</td>\n",
       "    </tr>\n",
       "  </tbody>\n",
       "</table>\n",
       "<p>5 rows × 22 columns</p>\n",
       "</div>"
      ],
      "text/plain": [
       "   AGE  CUS_Gender  CUS_Marital_Status  # total debit transactions for S1  \\\n",
       "0   49           1                   1                                277   \n",
       "1   46           0                   4                                 37   \n",
       "2   53           0                   4                                 31   \n",
       "3   15           0                   4                                  0   \n",
       "4   48           0                   4                                 15   \n",
       "\n",
       "   # total debit transactions for S2  # total debit transactions for S3  \\\n",
       "0                                265                                345   \n",
       "1                                 15                                 45   \n",
       "2                                 14                                  8   \n",
       "3                                  1                                  0   \n",
       "4                                 33                                 12   \n",
       "\n",
       "   total debit amount for S1  total debit amount for S2  \\\n",
       "0                 1459126.64                 1230543.08   \n",
       "1                   35372.55                   20134.00   \n",
       "2                   28248.85                    4777.66   \n",
       "3                       0.00                    4000.00   \n",
       "4                   69083.38                  223007.51   \n",
       "\n",
       "   total debit amount for S3  # total credit transactions for S1  ...  \\\n",
       "0                 2068641.91                                  10  ...   \n",
       "1                   83856.67                                   2  ...   \n",
       "2                    4348.95                                  14  ...   \n",
       "3                       0.00                                   5  ...   \n",
       "4                   46379.40                                   8  ...   \n",
       "\n",
       "   total credit amount for S1  total credit amount for S2  \\\n",
       "0                  1516981.10                  1764079.61   \n",
       "1                    10000.00                    19500.00   \n",
       "2                   709625.00                   240311.84   \n",
       "3                    30103.05                    28089.99   \n",
       "4                   195600.00                   176000.00   \n",
       "\n",
       "   total credit amount for S3  total debit amount  total debit transactions  \\\n",
       "0                  2378592.62          4758311.63                       887   \n",
       "1                    57500.00           139363.22                        97   \n",
       "2                    70946.86            37375.46                        53   \n",
       "3                    18753.92             4000.00                         1   \n",
       "4                    70500.00           338470.29                        60   \n",
       "\n",
       "   total credit amount  total credit transactions  total transactions  \\\n",
       "0           5659653.33                         65                 952   \n",
       "1             87000.00                         10                 107   \n",
       "2           1020883.70                         27                  80   \n",
       "3             76946.96                         12                  13   \n",
       "4            442100.00                         21                  81   \n",
       "\n",
       "   TAR_Desc  Status  \n",
       "0         0       0  \n",
       "1         1       0  \n",
       "2         2       0  \n",
       "3         1       0  \n",
       "4         1       0  \n",
       "\n",
       "[5 rows x 22 columns]"
      ]
     },
     "execution_count": 84,
     "metadata": {},
     "output_type": "execute_result"
    }
   ],
   "source": [
    "df.head(5)"
   ]
  },
  {
   "cell_type": "code",
   "execution_count": 85,
   "id": "e3914ba2",
   "metadata": {
    "scrolled": false
   },
   "outputs": [
    {
     "data": {
      "text/plain": [
       "(1247, 22)"
      ]
     },
     "execution_count": 85,
     "metadata": {},
     "output_type": "execute_result"
    }
   ],
   "source": [
    "df.shape"
   ]
  },
  {
   "cell_type": "code",
   "execution_count": 86,
   "id": "c1519eed",
   "metadata": {},
   "outputs": [],
   "source": [
    "df2 = df.copy(deep=True)"
   ]
  },
  {
   "cell_type": "code",
   "execution_count": 87,
   "id": "9dae0f89",
   "metadata": {},
   "outputs": [
    {
     "name": "stdout",
     "output_type": "stream",
     "text": [
      "   AGE  CUS_Gender  CUS_Marital_Status  # total debit transactions for S1  \\\n",
      "0   49           1                   1                                277   \n",
      "1   46           0                   4                                 37   \n",
      "2   53           0                   4                                 31   \n",
      "3   15           0                   4                                  0   \n",
      "4   48           0                   4                                 15   \n",
      "\n",
      "   # total debit transactions for S2  # total debit transactions for S3  \\\n",
      "0                                265                                345   \n",
      "1                                 15                                 45   \n",
      "2                                 14                                  8   \n",
      "3                                  1                                  0   \n",
      "4                                 33                                 12   \n",
      "\n",
      "   total debit amount for S1  total debit amount for S2  \\\n",
      "0                 1459126.64                 1230543.08   \n",
      "1                   35372.55                   20134.00   \n",
      "2                   28248.85                    4777.66   \n",
      "3                       0.00                    4000.00   \n",
      "4                   69083.38                  223007.51   \n",
      "\n",
      "   total debit amount for S3  # total credit transactions for S1  ...  \\\n",
      "0                 2068641.91                                  10  ...   \n",
      "1                   83856.67                                   2  ...   \n",
      "2                    4348.95                                  14  ...   \n",
      "3                       0.00                                   5  ...   \n",
      "4                   46379.40                                   8  ...   \n",
      "\n",
      "   # total credit transactions for S3  total credit amount for S1  \\\n",
      "0                                  31                  1516981.10   \n",
      "1                                   4                    10000.00   \n",
      "2                                   5                   709625.00   \n",
      "3                                   3                    30103.05   \n",
      "4                                   6                   195600.00   \n",
      "\n",
      "   total credit amount for S2  total credit amount for S3  total debit amount  \\\n",
      "0                  1764079.61                  2378592.62          4758311.63   \n",
      "1                    19500.00                    57500.00           139363.22   \n",
      "2                   240311.84                    70946.86            37375.46   \n",
      "3                    28089.99                    18753.92             4000.00   \n",
      "4                   176000.00                    70500.00           338470.29   \n",
      "\n",
      "   total debit transactions  total credit amount  total credit transactions  \\\n",
      "0                       887           5659653.33                         65   \n",
      "1                        97             87000.00                         10   \n",
      "2                        53           1020883.70                         27   \n",
      "3                         1             76946.96                         12   \n",
      "4                        60            442100.00                         21   \n",
      "\n",
      "   total transactions  TAR_Desc  \n",
      "0                 952         0  \n",
      "1                 107         1  \n",
      "2                  80         2  \n",
      "3                  13         1  \n",
      "4                  81         1  \n",
      "\n",
      "[5 rows x 21 columns]\n"
     ]
    }
   ],
   "source": [
    "#Splitting of data\n",
    "X = df.iloc[:,:21]\n",
    "print(X.head())"
   ]
  },
  {
   "cell_type": "code",
   "execution_count": 88,
   "id": "90cd500d",
   "metadata": {
    "scrolled": true
   },
   "outputs": [
    {
     "name": "stdout",
     "output_type": "stream",
     "text": [
      "   Status\n",
      "0       0\n",
      "1       0\n",
      "2       0\n",
      "3       0\n",
      "4       0\n"
     ]
    }
   ],
   "source": [
    "y = df.iloc[:,21:]\n",
    "print(y.head())"
   ]
  },
  {
   "cell_type": "markdown",
   "id": "6fa3c84c",
   "metadata": {},
   "source": [
    "## Balancing data using Smoteenn"
   ]
  },
  {
   "cell_type": "code",
   "execution_count": 89,
   "id": "014a6565",
   "metadata": {},
   "outputs": [],
   "source": [
    "from imblearn.combine import SMOTEENN\n",
    "smotenn = SMOTEENN()\n",
    "X, y = smotenn.fit_resample(X,y)"
   ]
  },
  {
   "cell_type": "code",
   "execution_count": 90,
   "id": "4a37aafd",
   "metadata": {},
   "outputs": [],
   "source": [
    "# Sampling of data\n",
    "from sklearn.model_selection import train_test_split\n",
    "X_train, X_test, y_train, y_test = train_test_split(X,y , test_size = 0.2, random_state = 1234)"
   ]
  },
  {
   "cell_type": "code",
   "execution_count": 91,
   "id": "89137581",
   "metadata": {},
   "outputs": [
    {
     "name": "stdout",
     "output_type": "stream",
     "text": [
      "(1168, 21)\n",
      "(1168, 1)\n",
      "(293, 21)\n",
      "(293, 1)\n"
     ]
    }
   ],
   "source": [
    "print(X_train.shape)\n",
    "print(y_train.shape)\n",
    "print(X_test.shape)\n",
    "print(y_test.shape)"
   ]
  },
  {
   "cell_type": "markdown",
   "id": "ac445880",
   "metadata": {},
   "source": [
    "## Decision Tree"
   ]
  },
  {
   "cell_type": "code",
   "execution_count": 92,
   "id": "ea6d4a5e",
   "metadata": {},
   "outputs": [
    {
     "data": {
      "text/plain": [
       "DecisionTreeClassifier()"
      ]
     },
     "execution_count": 92,
     "metadata": {},
     "output_type": "execute_result"
    }
   ],
   "source": [
    "model1 = DecisionTreeClassifier()\n",
    "model1.fit(X_train, y_train)"
   ]
  },
  {
   "cell_type": "code",
   "execution_count": 93,
   "id": "6b883fdd",
   "metadata": {},
   "outputs": [
    {
     "name": "stdout",
     "output_type": "stream",
     "text": [
      "[[541   0]\n",
      " [  0 627]]\n",
      "              precision    recall  f1-score   support\n",
      "\n",
      "           0       1.00      1.00      1.00       541\n",
      "           1       1.00      1.00      1.00       627\n",
      "\n",
      "    accuracy                           1.00      1168\n",
      "   macro avg       1.00      1.00      1.00      1168\n",
      "weighted avg       1.00      1.00      1.00      1168\n",
      "\n"
     ]
    }
   ],
   "source": [
    "# trainig Accuracy\n",
    "y_pred_train = model1.predict(X_train)\n",
    "print(metrics.confusion_matrix(y_train, y_pred_train))\n",
    "print(metrics.classification_report(y_train, y_pred_train))"
   ]
  },
  {
   "cell_type": "code",
   "execution_count": 94,
   "id": "786ac0ee",
   "metadata": {},
   "outputs": [
    {
     "name": "stdout",
     "output_type": "stream",
     "text": [
      "[[130  10]\n",
      " [  0 153]]\n",
      "              precision    recall  f1-score   support\n",
      "\n",
      "           0       1.00      0.93      0.96       140\n",
      "           1       0.94      1.00      0.97       153\n",
      "\n",
      "    accuracy                           0.97       293\n",
      "   macro avg       0.97      0.96      0.97       293\n",
      "weighted avg       0.97      0.97      0.97       293\n",
      "\n"
     ]
    }
   ],
   "source": [
    "#test accuracy\n",
    "y_pred_test = model1.predict(X_test)\n",
    "print(metrics.confusion_matrix(y_test, y_pred_test))\n",
    "print(metrics.classification_report(y_test, y_pred_test))"
   ]
  },
  {
   "cell_type": "markdown",
   "id": "5e481d87",
   "metadata": {},
   "source": [
    "## Grid search for decision tree"
   ]
  },
  {
   "cell_type": "code",
   "execution_count": 95,
   "id": "3724adb3",
   "metadata": {},
   "outputs": [
    {
     "data": {
      "text/plain": [
       "{'criterion': 'gini', 'max_depth': 10, 'min_samples_leaf': 2}"
      ]
     },
     "execution_count": 95,
     "metadata": {},
     "output_type": "execute_result"
    }
   ],
   "source": [
    "parameters = {'criterion':('gini', 'entropy'), 'max_depth':[6,8, 10,12],'min_samples_leaf':[2,4,6]}\n",
    "dt = DecisionTreeClassifier()\n",
    "clf = GridSearchCV(dt, parameters)\n",
    "clf.fit(X_train, y_train)\n",
    "clf.best_params_"
   ]
  },
  {
   "cell_type": "code",
   "execution_count": 96,
   "id": "391ef8ce",
   "metadata": {
    "scrolled": true
   },
   "outputs": [
    {
     "name": "stdout",
     "output_type": "stream",
     "text": [
      "[[130  10]\n",
      " [  5 148]]\n",
      "              precision    recall  f1-score   support\n",
      "\n",
      "           0       0.96      0.93      0.95       140\n",
      "           1       0.94      0.97      0.95       153\n",
      "\n",
      "    accuracy                           0.95       293\n",
      "   macro avg       0.95      0.95      0.95       293\n",
      "weighted avg       0.95      0.95      0.95       293\n",
      "\n"
     ]
    }
   ],
   "source": [
    "predicted = clf.predict(X_test)\n",
    "print(metrics.confusion_matrix(y_test, predicted))\n",
    "print(metrics.classification_report(y_test, predicted))"
   ]
  },
  {
   "cell_type": "markdown",
   "id": "20b93f32",
   "metadata": {},
   "source": [
    "## Decision Tree improves  Testing accuracy from 80 to 95 after using smoteenn"
   ]
  },
  {
   "cell_type": "markdown",
   "id": "ea150455",
   "metadata": {},
   "source": [
    "# Random Forest"
   ]
  },
  {
   "cell_type": "code",
   "execution_count": 97,
   "id": "540a70a0",
   "metadata": {},
   "outputs": [
    {
     "data": {
      "text/plain": [
       "RandomForestClassifier(random_state=100)"
      ]
     },
     "execution_count": 97,
     "metadata": {},
     "output_type": "execute_result"
    }
   ],
   "source": [
    "model2 = RandomForestClassifier(n_estimators = 100, random_state=100)\n",
    "model2.fit(X_train, y_train)"
   ]
  },
  {
   "cell_type": "code",
   "execution_count": 98,
   "id": "bf83650f",
   "metadata": {},
   "outputs": [
    {
     "name": "stdout",
     "output_type": "stream",
     "text": [
      "[[541   0]\n",
      " [  0 627]]\n",
      "              precision    recall  f1-score   support\n",
      "\n",
      "           0       1.00      1.00      1.00       541\n",
      "           1       1.00      1.00      1.00       627\n",
      "\n",
      "    accuracy                           1.00      1168\n",
      "   macro avg       1.00      1.00      1.00      1168\n",
      "weighted avg       1.00      1.00      1.00      1168\n",
      "\n"
     ]
    }
   ],
   "source": [
    "# trainig Accuracy\n",
    "y_pred_trainR = model2.predict(X_train)\n",
    "print(metrics.confusion_matrix(y_train, y_pred_trainR))\n",
    "print(metrics.classification_report(y_train, y_pred_trainR))"
   ]
  },
  {
   "cell_type": "code",
   "execution_count": 99,
   "id": "1904f878",
   "metadata": {},
   "outputs": [
    {
     "name": "stdout",
     "output_type": "stream",
     "text": [
      "[[135   5]\n",
      " [  3 150]]\n",
      "              precision    recall  f1-score   support\n",
      "\n",
      "           0       0.98      0.96      0.97       140\n",
      "           1       0.97      0.98      0.97       153\n",
      "\n",
      "    accuracy                           0.97       293\n",
      "   macro avg       0.97      0.97      0.97       293\n",
      "weighted avg       0.97      0.97      0.97       293\n",
      "\n"
     ]
    }
   ],
   "source": [
    "#test accuracy\n",
    "y_pred_testR = model2.predict(X_test)\n",
    "print(metrics.confusion_matrix(y_test, y_pred_testR))\n",
    "print(metrics.classification_report(y_test, y_pred_testR))"
   ]
  },
  {
   "cell_type": "code",
   "execution_count": 100,
   "id": "384bfe45",
   "metadata": {},
   "outputs": [
    {
     "data": {
      "text/plain": [
       "Index(['AGE', 'CUS_Gender', 'CUS_Marital_Status',\n",
       "       '# total debit transactions for S1',\n",
       "       '# total debit transactions for S2',\n",
       "       '# total debit transactions for S3', 'total debit amount for S1',\n",
       "       'total debit amount for S2', 'total debit amount for S3',\n",
       "       '# total credit transactions for S1',\n",
       "       '# total credit transactions for S2',\n",
       "       '# total credit transactions for S3', 'total credit amount for S1',\n",
       "       'total credit amount for S2', 'total credit amount for S3',\n",
       "       'total debit amount', 'total debit transactions', 'total credit amount',\n",
       "       'total credit transactions', 'total transactions', 'TAR_Desc'],\n",
       "      dtype='object')"
      ]
     },
     "execution_count": 100,
     "metadata": {},
     "output_type": "execute_result"
    }
   ],
   "source": [
    "X_train.columns"
   ]
  },
  {
   "cell_type": "code",
   "execution_count": 101,
   "id": "b9a9b455",
   "metadata": {
    "scrolled": true
   },
   "outputs": [
    {
     "data": {
      "text/html": [
       "<div>\n",
       "<style scoped>\n",
       "    .dataframe tbody tr th:only-of-type {\n",
       "        vertical-align: middle;\n",
       "    }\n",
       "\n",
       "    .dataframe tbody tr th {\n",
       "        vertical-align: top;\n",
       "    }\n",
       "\n",
       "    .dataframe thead th {\n",
       "        text-align: right;\n",
       "    }\n",
       "</style>\n",
       "<table border=\"1\" class=\"dataframe\">\n",
       "  <thead>\n",
       "    <tr style=\"text-align: right;\">\n",
       "      <th></th>\n",
       "      <th>AGE</th>\n",
       "      <th>CUS_Gender</th>\n",
       "      <th>CUS_Marital_Status</th>\n",
       "      <th># total debit transactions for S1</th>\n",
       "      <th># total debit transactions for S2</th>\n",
       "      <th># total debit transactions for S3</th>\n",
       "      <th>total debit amount for S1</th>\n",
       "      <th>total debit amount for S2</th>\n",
       "      <th>total debit amount for S3</th>\n",
       "      <th># total credit transactions for S1</th>\n",
       "      <th>...</th>\n",
       "      <th># total credit transactions for S3</th>\n",
       "      <th>total credit amount for S1</th>\n",
       "      <th>total credit amount for S2</th>\n",
       "      <th>total credit amount for S3</th>\n",
       "      <th>total debit amount</th>\n",
       "      <th>total debit transactions</th>\n",
       "      <th>total credit amount</th>\n",
       "      <th>total credit transactions</th>\n",
       "      <th>total transactions</th>\n",
       "      <th>TAR_Desc</th>\n",
       "    </tr>\n",
       "  </thead>\n",
       "  <tbody>\n",
       "    <tr>\n",
       "      <th>1</th>\n",
       "      <td>45</td>\n",
       "      <td>1</td>\n",
       "      <td>1</td>\n",
       "      <td>250</td>\n",
       "      <td>245</td>\n",
       "      <td>265</td>\n",
       "      <td>1022534</td>\n",
       "      <td>1512634</td>\n",
       "      <td>1945432</td>\n",
       "      <td>8</td>\n",
       "      <td>...</td>\n",
       "      <td>6</td>\n",
       "      <td>195600</td>\n",
       "      <td>176000</td>\n",
       "      <td>70500</td>\n",
       "      <td>4480600</td>\n",
       "      <td>760</td>\n",
       "      <td>442100</td>\n",
       "      <td>21</td>\n",
       "      <td>781</td>\n",
       "      <td>2</td>\n",
       "    </tr>\n",
       "  </tbody>\n",
       "</table>\n",
       "<p>1 rows × 21 columns</p>\n",
       "</div>"
      ],
      "text/plain": [
       "   AGE  CUS_Gender  CUS_Marital_Status  # total debit transactions for S1  \\\n",
       "1   45           1                   1                                250   \n",
       "\n",
       "   # total debit transactions for S2  # total debit transactions for S3  \\\n",
       "1                                245                                265   \n",
       "\n",
       "   total debit amount for S1  total debit amount for S2  \\\n",
       "1                    1022534                    1512634   \n",
       "\n",
       "   total debit amount for S3  # total credit transactions for S1  ...  \\\n",
       "1                    1945432                                   8  ...   \n",
       "\n",
       "   # total credit transactions for S3  total credit amount for S1  \\\n",
       "1                                   6                      195600   \n",
       "\n",
       "   total credit amount for S2  total credit amount for S3  total debit amount  \\\n",
       "1                      176000                       70500             4480600   \n",
       "\n",
       "   total debit transactions  total credit amount  total credit transactions  \\\n",
       "1                       760               442100                         21   \n",
       "\n",
       "   total transactions  TAR_Desc  \n",
       "1                 781         2  \n",
       "\n",
       "[1 rows x 21 columns]"
      ]
     },
     "execution_count": 101,
     "metadata": {},
     "output_type": "execute_result"
    }
   ],
   "source": [
    "test1 = pd.DataFrame({'AGE':{1:45},\n",
    "                     'CUS_Gender':{1:1},\n",
    "                     'CUS_Marital_Status':{1:1},\n",
    "                     '# total debit transactions for S1':{1:250},\n",
    "                     '# total debit transactions for S2':{1:245},\n",
    "                     '# total debit transactions for S3':{1:265},\n",
    "                     'total debit amount for S1':{1:1022534},\n",
    "                     'total debit amount for S2':{1:1512634},\n",
    "                     'total debit amount for S3':{1:1945432},\n",
    "                     '# total credit transactions for S1':{1:8},\n",
    "                     '# total credit transactions for S2':{1:7},\n",
    "                     '# total credit transactions for S3':{1:6},\n",
    "                     'total credit amount for S1':{1:195600},\n",
    "                     'total credit amount for S2':{1:176000},\n",
    "                     'total credit amount for S3':{1:70500},\n",
    "                     'total debit amount':{1:4480600},\n",
    "                     'total debit transactions':{1:760},\n",
    "                     'total credit amount':{1:442100},\n",
    "                     'total credit transactions':{1:21},\n",
    "                     'total transactions':{1:781},\n",
    "                     'TAR_Desc':{1:2}})\n",
    "test1"
   ]
  },
  {
   "cell_type": "code",
   "execution_count": 102,
   "id": "42d6a6dc",
   "metadata": {},
   "outputs": [
    {
     "data": {
      "text/plain": [
       "array([0])"
      ]
     },
     "execution_count": 102,
     "metadata": {},
     "output_type": "execute_result"
    }
   ],
   "source": [
    "#test accuracy\n",
    "pred = model2.predict(test1)\n",
    "pred"
   ]
  },
  {
   "cell_type": "markdown",
   "id": "09400744",
   "metadata": {},
   "source": [
    "## Before using Smoteenn Random Forest 100% training and 90% testing \n",
    "## After using Smoteenn or(after balancing data) testing Accuracy 97%  "
   ]
  },
  {
   "cell_type": "code",
   "execution_count": null,
   "id": "86c86373",
   "metadata": {},
   "outputs": [],
   "source": []
  }
 ],
 "metadata": {
  "kernelspec": {
   "display_name": "Python 3 (ipykernel)",
   "language": "python",
   "name": "python3"
  },
  "language_info": {
   "codemirror_mode": {
    "name": "ipython",
    "version": 3
   },
   "file_extension": ".py",
   "mimetype": "text/x-python",
   "name": "python",
   "nbconvert_exporter": "python",
   "pygments_lexer": "ipython3",
   "version": "3.9.7"
  }
 },
 "nbformat": 4,
 "nbformat_minor": 5
}
